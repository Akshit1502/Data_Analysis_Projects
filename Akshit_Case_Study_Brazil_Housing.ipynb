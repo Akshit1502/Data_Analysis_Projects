{
 "cells": [
  {
   "cell_type": "code",
   "execution_count": 1,
   "id": "ba32da43",
   "metadata": {},
   "outputs": [
    {
     "ename": "KeyboardInterrupt",
     "evalue": "",
     "output_type": "error",
     "traceback": [
      "\u001b[1;31m---------------------------------------------------------------------------\u001b[0m",
      "\u001b[1;31mKeyboardInterrupt\u001b[0m                         Traceback (most recent call last)",
      "\u001b[1;32m~\\AppData\\Local\\Temp\\ipykernel_5896\\2325469978.py\u001b[0m in \u001b[0;36m<module>\u001b[1;34m\u001b[0m\n\u001b[0;32m      1\u001b[0m \u001b[1;32mimport\u001b[0m \u001b[0mpandas\u001b[0m \u001b[1;32mas\u001b[0m \u001b[0mpd\u001b[0m\u001b[1;33m\u001b[0m\u001b[1;33m\u001b[0m\u001b[0m\n\u001b[1;32m----> 2\u001b[1;33m \u001b[1;32mimport\u001b[0m \u001b[0mseaborn\u001b[0m \u001b[1;32mas\u001b[0m \u001b[0msb\u001b[0m\u001b[1;33m\u001b[0m\u001b[1;33m\u001b[0m\u001b[0m\n\u001b[0m\u001b[0;32m      3\u001b[0m \u001b[1;32mimport\u001b[0m \u001b[0mmatplotlib\u001b[0m \u001b[1;32mas\u001b[0m \u001b[0mmat\u001b[0m\u001b[1;33m\u001b[0m\u001b[1;33m\u001b[0m\u001b[0m\n\u001b[0;32m      4\u001b[0m \u001b[1;32mimport\u001b[0m \u001b[0mmatplotlib\u001b[0m\u001b[1;33m.\u001b[0m\u001b[0mpyplot\u001b[0m \u001b[1;32mas\u001b[0m \u001b[0mplt\u001b[0m\u001b[1;33m\u001b[0m\u001b[1;33m\u001b[0m\u001b[0m\n\u001b[0;32m      5\u001b[0m \u001b[1;32mfrom\u001b[0m \u001b[0mtabulate\u001b[0m \u001b[1;32mimport\u001b[0m \u001b[0mtabulate\u001b[0m\u001b[1;33m\u001b[0m\u001b[1;33m\u001b[0m\u001b[0m\n",
      "\u001b[1;32m~\\anaconda3\\lib\\site-packages\\seaborn\\__init__.py\u001b[0m in \u001b[0;36m<module>\u001b[1;34m\u001b[0m\n\u001b[0;32m      1\u001b[0m \u001b[1;31m# Import seaborn objects\u001b[0m\u001b[1;33m\u001b[0m\u001b[1;33m\u001b[0m\u001b[0m\n\u001b[1;32m----> 2\u001b[1;33m \u001b[1;32mfrom\u001b[0m \u001b[1;33m.\u001b[0m\u001b[0mrcmod\u001b[0m \u001b[1;32mimport\u001b[0m \u001b[1;33m*\u001b[0m  \u001b[1;31m# noqa: F401,F403\u001b[0m\u001b[1;33m\u001b[0m\u001b[1;33m\u001b[0m\u001b[0m\n\u001b[0m\u001b[0;32m      3\u001b[0m \u001b[1;32mfrom\u001b[0m \u001b[1;33m.\u001b[0m\u001b[0mutils\u001b[0m \u001b[1;32mimport\u001b[0m \u001b[1;33m*\u001b[0m  \u001b[1;31m# noqa: F401,F403\u001b[0m\u001b[1;33m\u001b[0m\u001b[1;33m\u001b[0m\u001b[0m\n\u001b[0;32m      4\u001b[0m \u001b[1;32mfrom\u001b[0m \u001b[1;33m.\u001b[0m\u001b[0mpalettes\u001b[0m \u001b[1;32mimport\u001b[0m \u001b[1;33m*\u001b[0m  \u001b[1;31m# noqa: F401,F403\u001b[0m\u001b[1;33m\u001b[0m\u001b[1;33m\u001b[0m\u001b[0m\n\u001b[0;32m      5\u001b[0m \u001b[1;32mfrom\u001b[0m \u001b[1;33m.\u001b[0m\u001b[0mrelational\u001b[0m \u001b[1;32mimport\u001b[0m \u001b[1;33m*\u001b[0m  \u001b[1;31m# noqa: F401,F403\u001b[0m\u001b[1;33m\u001b[0m\u001b[1;33m\u001b[0m\u001b[0m\n",
      "\u001b[1;32m~\\anaconda3\\lib\\site-packages\\seaborn\\rcmod.py\u001b[0m in \u001b[0;36m<module>\u001b[1;34m\u001b[0m\n\u001b[0;32m      5\u001b[0m \u001b[1;32mimport\u001b[0m \u001b[0mmatplotlib\u001b[0m \u001b[1;32mas\u001b[0m \u001b[0mmpl\u001b[0m\u001b[1;33m\u001b[0m\u001b[1;33m\u001b[0m\u001b[0m\n\u001b[0;32m      6\u001b[0m \u001b[1;32mfrom\u001b[0m \u001b[0mcycler\u001b[0m \u001b[1;32mimport\u001b[0m \u001b[0mcycler\u001b[0m\u001b[1;33m\u001b[0m\u001b[1;33m\u001b[0m\u001b[0m\n\u001b[1;32m----> 7\u001b[1;33m \u001b[1;32mfrom\u001b[0m \u001b[1;33m.\u001b[0m \u001b[1;32mimport\u001b[0m \u001b[0mpalettes\u001b[0m\u001b[1;33m\u001b[0m\u001b[1;33m\u001b[0m\u001b[0m\n\u001b[0m\u001b[0;32m      8\u001b[0m \u001b[1;33m\u001b[0m\u001b[0m\n\u001b[0;32m      9\u001b[0m \u001b[1;33m\u001b[0m\u001b[0m\n",
      "\u001b[1;32m~\\anaconda3\\lib\\site-packages\\seaborn\\palettes.py\u001b[0m in \u001b[0;36m<module>\u001b[1;34m\u001b[0m\n\u001b[0;32m      7\u001b[0m \u001b[1;32mfrom\u001b[0m \u001b[1;33m.\u001b[0m\u001b[0mexternal\u001b[0m \u001b[1;32mimport\u001b[0m \u001b[0mhusl\u001b[0m\u001b[1;33m\u001b[0m\u001b[1;33m\u001b[0m\u001b[0m\n\u001b[0;32m      8\u001b[0m \u001b[1;33m\u001b[0m\u001b[0m\n\u001b[1;32m----> 9\u001b[1;33m \u001b[1;32mfrom\u001b[0m \u001b[1;33m.\u001b[0m\u001b[0mutils\u001b[0m \u001b[1;32mimport\u001b[0m \u001b[0mdesaturate\u001b[0m\u001b[1;33m,\u001b[0m \u001b[0mget_color_cycle\u001b[0m\u001b[1;33m\u001b[0m\u001b[1;33m\u001b[0m\u001b[0m\n\u001b[0m\u001b[0;32m     10\u001b[0m \u001b[1;32mfrom\u001b[0m \u001b[1;33m.\u001b[0m\u001b[0mcolors\u001b[0m \u001b[1;32mimport\u001b[0m \u001b[0mxkcd_rgb\u001b[0m\u001b[1;33m,\u001b[0m \u001b[0mcrayons\u001b[0m\u001b[1;33m\u001b[0m\u001b[1;33m\u001b[0m\u001b[0m\n\u001b[0;32m     11\u001b[0m \u001b[1;33m\u001b[0m\u001b[0m\n",
      "\u001b[1;32m~\\anaconda3\\lib\\site-packages\\seaborn\\utils.py\u001b[0m in \u001b[0;36m<module>\u001b[1;34m\u001b[0m\n\u001b[0;32m     12\u001b[0m \u001b[1;32mimport\u001b[0m \u001b[0mmatplotlib\u001b[0m \u001b[1;32mas\u001b[0m \u001b[0mmpl\u001b[0m\u001b[1;33m\u001b[0m\u001b[1;33m\u001b[0m\u001b[0m\n\u001b[0;32m     13\u001b[0m \u001b[1;32mimport\u001b[0m \u001b[0mmatplotlib\u001b[0m\u001b[1;33m.\u001b[0m\u001b[0mcolors\u001b[0m \u001b[1;32mas\u001b[0m \u001b[0mmplcol\u001b[0m\u001b[1;33m\u001b[0m\u001b[1;33m\u001b[0m\u001b[0m\n\u001b[1;32m---> 14\u001b[1;33m \u001b[1;32mimport\u001b[0m \u001b[0mmatplotlib\u001b[0m\u001b[1;33m.\u001b[0m\u001b[0mpyplot\u001b[0m \u001b[1;32mas\u001b[0m \u001b[0mplt\u001b[0m\u001b[1;33m\u001b[0m\u001b[1;33m\u001b[0m\u001b[0m\n\u001b[0m\u001b[0;32m     15\u001b[0m \u001b[1;32mfrom\u001b[0m \u001b[0mmatplotlib\u001b[0m\u001b[1;33m.\u001b[0m\u001b[0mcbook\u001b[0m \u001b[1;32mimport\u001b[0m \u001b[0mnormalize_kwargs\u001b[0m\u001b[1;33m\u001b[0m\u001b[1;33m\u001b[0m\u001b[0m\n\u001b[0;32m     16\u001b[0m \u001b[1;33m\u001b[0m\u001b[0m\n",
      "\u001b[1;32m~\\anaconda3\\lib\\site-packages\\matplotlib\\pyplot.py\u001b[0m in \u001b[0;36m<module>\u001b[1;34m\u001b[0m\n\u001b[0;32m     55\u001b[0m \u001b[1;32mfrom\u001b[0m \u001b[0mmatplotlib\u001b[0m \u001b[1;32mimport\u001b[0m \u001b[0mdocstring\u001b[0m\u001b[1;33m\u001b[0m\u001b[1;33m\u001b[0m\u001b[0m\n\u001b[0;32m     56\u001b[0m \u001b[1;32mfrom\u001b[0m \u001b[0mmatplotlib\u001b[0m\u001b[1;33m.\u001b[0m\u001b[0mbackend_bases\u001b[0m \u001b[1;32mimport\u001b[0m \u001b[0mFigureCanvasBase\u001b[0m\u001b[1;33m,\u001b[0m \u001b[0mMouseButton\u001b[0m\u001b[1;33m\u001b[0m\u001b[1;33m\u001b[0m\u001b[0m\n\u001b[1;32m---> 57\u001b[1;33m \u001b[1;32mfrom\u001b[0m \u001b[0mmatplotlib\u001b[0m\u001b[1;33m.\u001b[0m\u001b[0mfigure\u001b[0m \u001b[1;32mimport\u001b[0m \u001b[0mFigure\u001b[0m\u001b[1;33m,\u001b[0m \u001b[0mfigaspect\u001b[0m\u001b[1;33m\u001b[0m\u001b[1;33m\u001b[0m\u001b[0m\n\u001b[0m\u001b[0;32m     58\u001b[0m \u001b[1;32mfrom\u001b[0m \u001b[0mmatplotlib\u001b[0m\u001b[1;33m.\u001b[0m\u001b[0mgridspec\u001b[0m \u001b[1;32mimport\u001b[0m \u001b[0mGridSpec\u001b[0m\u001b[1;33m,\u001b[0m \u001b[0mSubplotSpec\u001b[0m\u001b[1;33m\u001b[0m\u001b[1;33m\u001b[0m\u001b[0m\n\u001b[0;32m     59\u001b[0m \u001b[1;32mfrom\u001b[0m \u001b[0mmatplotlib\u001b[0m \u001b[1;32mimport\u001b[0m \u001b[0mrcParams\u001b[0m\u001b[1;33m,\u001b[0m \u001b[0mrcParamsDefault\u001b[0m\u001b[1;33m,\u001b[0m \u001b[0mget_backend\u001b[0m\u001b[1;33m,\u001b[0m \u001b[0mrcParamsOrig\u001b[0m\u001b[1;33m\u001b[0m\u001b[1;33m\u001b[0m\u001b[0m\n",
      "\u001b[1;32m~\\anaconda3\\lib\\site-packages\\matplotlib\\figure.py\u001b[0m in \u001b[0;36m<module>\u001b[1;34m\u001b[0m\n\u001b[0;32m     23\u001b[0m \u001b[1;33m\u001b[0m\u001b[0m\n\u001b[0;32m     24\u001b[0m \u001b[1;32mimport\u001b[0m \u001b[0mmatplotlib\u001b[0m \u001b[1;32mas\u001b[0m \u001b[0mmpl\u001b[0m\u001b[1;33m\u001b[0m\u001b[1;33m\u001b[0m\u001b[0m\n\u001b[1;32m---> 25\u001b[1;33m \u001b[1;32mfrom\u001b[0m \u001b[0mmatplotlib\u001b[0m \u001b[1;32mimport\u001b[0m \u001b[0m_blocking_input\u001b[0m\u001b[1;33m,\u001b[0m \u001b[0mdocstring\u001b[0m\u001b[1;33m,\u001b[0m \u001b[0mprojections\u001b[0m\u001b[1;33m\u001b[0m\u001b[1;33m\u001b[0m\u001b[0m\n\u001b[0m\u001b[0;32m     26\u001b[0m from matplotlib.artist import (\n\u001b[0;32m     27\u001b[0m     Artist, allow_rasterization, _finalize_rasterization)\n",
      "\u001b[1;32m~\\anaconda3\\lib\\site-packages\\matplotlib\\projections\\__init__.py\u001b[0m in \u001b[0;36m<module>\u001b[1;34m\u001b[0m\n\u001b[0;32m     53\u001b[0m \"\"\"\n\u001b[0;32m     54\u001b[0m \u001b[1;33m\u001b[0m\u001b[0m\n\u001b[1;32m---> 55\u001b[1;33m \u001b[1;32mfrom\u001b[0m \u001b[1;33m.\u001b[0m\u001b[1;33m.\u001b[0m \u001b[1;32mimport\u001b[0m \u001b[0maxes\u001b[0m\u001b[1;33m,\u001b[0m \u001b[0mdocstring\u001b[0m\u001b[1;33m\u001b[0m\u001b[1;33m\u001b[0m\u001b[0m\n\u001b[0m\u001b[0;32m     56\u001b[0m \u001b[1;32mfrom\u001b[0m \u001b[1;33m.\u001b[0m\u001b[0mgeo\u001b[0m \u001b[1;32mimport\u001b[0m \u001b[0mAitoffAxes\u001b[0m\u001b[1;33m,\u001b[0m \u001b[0mHammerAxes\u001b[0m\u001b[1;33m,\u001b[0m \u001b[0mLambertAxes\u001b[0m\u001b[1;33m,\u001b[0m \u001b[0mMollweideAxes\u001b[0m\u001b[1;33m\u001b[0m\u001b[1;33m\u001b[0m\u001b[0m\n\u001b[0;32m     57\u001b[0m \u001b[1;32mfrom\u001b[0m \u001b[1;33m.\u001b[0m\u001b[0mpolar\u001b[0m \u001b[1;32mimport\u001b[0m \u001b[0mPolarAxes\u001b[0m\u001b[1;33m\u001b[0m\u001b[1;33m\u001b[0m\u001b[0m\n",
      "\u001b[1;32m~\\anaconda3\\lib\\site-packages\\matplotlib\\axes\\__init__.py\u001b[0m in \u001b[0;36m<module>\u001b[1;34m\u001b[0m\n\u001b[1;32m----> 1\u001b[1;33m \u001b[1;32mfrom\u001b[0m \u001b[1;33m.\u001b[0m\u001b[0m_subplots\u001b[0m \u001b[1;32mimport\u001b[0m \u001b[1;33m*\u001b[0m\u001b[1;33m\u001b[0m\u001b[1;33m\u001b[0m\u001b[0m\n\u001b[0m\u001b[0;32m      2\u001b[0m \u001b[1;32mfrom\u001b[0m \u001b[1;33m.\u001b[0m\u001b[0m_axes\u001b[0m \u001b[1;32mimport\u001b[0m \u001b[1;33m*\u001b[0m\u001b[1;33m\u001b[0m\u001b[1;33m\u001b[0m\u001b[0m\n",
      "\u001b[1;32m~\\anaconda3\\lib\\site-packages\\matplotlib\\axes\\_subplots.py\u001b[0m in \u001b[0;36m<module>\u001b[1;34m\u001b[0m\n\u001b[0;32m      1\u001b[0m \u001b[1;32mimport\u001b[0m \u001b[0mmatplotlib\u001b[0m \u001b[1;32mas\u001b[0m \u001b[0mmpl\u001b[0m\u001b[1;33m\u001b[0m\u001b[1;33m\u001b[0m\u001b[0m\n\u001b[0;32m      2\u001b[0m \u001b[1;32mfrom\u001b[0m \u001b[0mmatplotlib\u001b[0m \u001b[1;32mimport\u001b[0m \u001b[0m_api\u001b[0m\u001b[1;33m,\u001b[0m \u001b[0mcbook\u001b[0m\u001b[1;33m\u001b[0m\u001b[1;33m\u001b[0m\u001b[0m\n\u001b[1;32m----> 3\u001b[1;33m \u001b[1;32mfrom\u001b[0m \u001b[0mmatplotlib\u001b[0m\u001b[1;33m.\u001b[0m\u001b[0maxes\u001b[0m\u001b[1;33m.\u001b[0m\u001b[0m_axes\u001b[0m \u001b[1;32mimport\u001b[0m \u001b[0mAxes\u001b[0m\u001b[1;33m\u001b[0m\u001b[1;33m\u001b[0m\u001b[0m\n\u001b[0m\u001b[0;32m      4\u001b[0m \u001b[1;32mfrom\u001b[0m \u001b[0mmatplotlib\u001b[0m\u001b[1;33m.\u001b[0m\u001b[0mgridspec\u001b[0m \u001b[1;32mimport\u001b[0m \u001b[0mGridSpec\u001b[0m\u001b[1;33m,\u001b[0m \u001b[0mSubplotSpec\u001b[0m\u001b[1;33m\u001b[0m\u001b[1;33m\u001b[0m\u001b[0m\n\u001b[0;32m      5\u001b[0m \u001b[1;33m\u001b[0m\u001b[0m\n",
      "\u001b[1;32m~\\anaconda3\\lib\\site-packages\\matplotlib\\axes\\_axes.py\u001b[0m in \u001b[0;36m<module>\u001b[1;34m\u001b[0m\n\u001b[0;32m     16\u001b[0m \u001b[1;32mimport\u001b[0m \u001b[0mmatplotlib\u001b[0m\u001b[1;33m.\u001b[0m\u001b[0mdocstring\u001b[0m \u001b[1;32mas\u001b[0m \u001b[0mdocstring\u001b[0m\u001b[1;33m\u001b[0m\u001b[1;33m\u001b[0m\u001b[0m\n\u001b[0;32m     17\u001b[0m \u001b[1;32mimport\u001b[0m \u001b[0mmatplotlib\u001b[0m\u001b[1;33m.\u001b[0m\u001b[0mimage\u001b[0m \u001b[1;32mas\u001b[0m \u001b[0mmimage\u001b[0m\u001b[1;33m\u001b[0m\u001b[1;33m\u001b[0m\u001b[0m\n\u001b[1;32m---> 18\u001b[1;33m \u001b[1;32mimport\u001b[0m \u001b[0mmatplotlib\u001b[0m\u001b[1;33m.\u001b[0m\u001b[0mlegend\u001b[0m \u001b[1;32mas\u001b[0m \u001b[0mmlegend\u001b[0m\u001b[1;33m\u001b[0m\u001b[1;33m\u001b[0m\u001b[0m\n\u001b[0m\u001b[0;32m     19\u001b[0m \u001b[1;32mimport\u001b[0m \u001b[0mmatplotlib\u001b[0m\u001b[1;33m.\u001b[0m\u001b[0mlines\u001b[0m \u001b[1;32mas\u001b[0m \u001b[0mmlines\u001b[0m\u001b[1;33m\u001b[0m\u001b[1;33m\u001b[0m\u001b[0m\n\u001b[0;32m     20\u001b[0m \u001b[1;32mimport\u001b[0m \u001b[0mmatplotlib\u001b[0m\u001b[1;33m.\u001b[0m\u001b[0mmarkers\u001b[0m \u001b[1;32mas\u001b[0m \u001b[0mmmarkers\u001b[0m\u001b[1;33m\u001b[0m\u001b[1;33m\u001b[0m\u001b[0m\n",
      "\u001b[1;32m~\\anaconda3\\lib\\site-packages\\matplotlib\\legend.py\u001b[0m in \u001b[0;36m<module>\u001b[1;34m\u001b[0m\n\u001b[0;32m     29\u001b[0m \u001b[1;33m\u001b[0m\u001b[0m\n\u001b[0;32m     30\u001b[0m \u001b[1;32mimport\u001b[0m \u001b[0mmatplotlib\u001b[0m \u001b[1;32mas\u001b[0m \u001b[0mmpl\u001b[0m\u001b[1;33m\u001b[0m\u001b[1;33m\u001b[0m\u001b[0m\n\u001b[1;32m---> 31\u001b[1;33m \u001b[1;32mfrom\u001b[0m \u001b[0mmatplotlib\u001b[0m \u001b[1;32mimport\u001b[0m \u001b[0m_api\u001b[0m\u001b[1;33m,\u001b[0m \u001b[0mdocstring\u001b[0m\u001b[1;33m,\u001b[0m \u001b[0mcolors\u001b[0m\u001b[1;33m,\u001b[0m \u001b[0moffsetbox\u001b[0m\u001b[1;33m\u001b[0m\u001b[1;33m\u001b[0m\u001b[0m\n\u001b[0m\u001b[0;32m     32\u001b[0m \u001b[1;32mfrom\u001b[0m \u001b[0mmatplotlib\u001b[0m\u001b[1;33m.\u001b[0m\u001b[0martist\u001b[0m \u001b[1;32mimport\u001b[0m \u001b[0mArtist\u001b[0m\u001b[1;33m,\u001b[0m \u001b[0mallow_rasterization\u001b[0m\u001b[1;33m\u001b[0m\u001b[1;33m\u001b[0m\u001b[0m\n\u001b[0;32m     33\u001b[0m \u001b[1;32mfrom\u001b[0m \u001b[0mmatplotlib\u001b[0m\u001b[1;33m.\u001b[0m\u001b[0mcbook\u001b[0m \u001b[1;32mimport\u001b[0m \u001b[0msilent_list\u001b[0m\u001b[1;33m\u001b[0m\u001b[1;33m\u001b[0m\u001b[0m\n",
      "\u001b[1;32m~\\anaconda3\\lib\\site-packages\\matplotlib\\offsetbox.py\u001b[0m in \u001b[0;36m<module>\u001b[1;34m\u001b[0m\n\u001b[0;32m    496\u001b[0m \u001b[1;33m\u001b[0m\u001b[0m\n\u001b[0;32m    497\u001b[0m \u001b[1;33m\u001b[0m\u001b[0m\n\u001b[1;32m--> 498\u001b[1;33m \u001b[1;32mclass\u001b[0m \u001b[0mPaddedBox\u001b[0m\u001b[1;33m(\u001b[0m\u001b[0mOffsetBox\u001b[0m\u001b[1;33m)\u001b[0m\u001b[1;33m:\u001b[0m\u001b[1;33m\u001b[0m\u001b[1;33m\u001b[0m\u001b[0m\n\u001b[0m\u001b[0;32m    499\u001b[0m     \"\"\"\n\u001b[0;32m    500\u001b[0m     \u001b[0mA\u001b[0m \u001b[0mcontainer\u001b[0m \u001b[0mto\u001b[0m \u001b[0madd\u001b[0m \u001b[0ma\u001b[0m \u001b[0mpadding\u001b[0m \u001b[0maround\u001b[0m \u001b[0man\u001b[0m\u001b[0;31m \u001b[0m\u001b[0;31m`\u001b[0m\u001b[1;33m.\u001b[0m\u001b[0mArtist\u001b[0m\u001b[0;31m`\u001b[0m\u001b[1;33m.\u001b[0m\u001b[1;33m\u001b[0m\u001b[1;33m\u001b[0m\u001b[0m\n",
      "\u001b[1;32m~\\anaconda3\\lib\\site-packages\\matplotlib\\artist.py\u001b[0m in \u001b[0;36m__init_subclass__\u001b[1;34m(cls)\u001b[0m\n\u001b[0;32m    117\u001b[0m         \u001b[0mcls\u001b[0m\u001b[1;33m.\u001b[0m\u001b[0mset\u001b[0m\u001b[1;33m.\u001b[0m\u001b[0m__name__\u001b[0m \u001b[1;33m=\u001b[0m \u001b[1;34m\"set\"\u001b[0m\u001b[1;33m\u001b[0m\u001b[1;33m\u001b[0m\u001b[0m\n\u001b[0;32m    118\u001b[0m         \u001b[0mcls\u001b[0m\u001b[1;33m.\u001b[0m\u001b[0mset\u001b[0m\u001b[1;33m.\u001b[0m\u001b[0m__qualname__\u001b[0m \u001b[1;33m=\u001b[0m \u001b[1;34mf\"{cls.__qualname__}.set\"\u001b[0m\u001b[1;33m\u001b[0m\u001b[1;33m\u001b[0m\u001b[0m\n\u001b[1;32m--> 119\u001b[1;33m         \u001b[0mcls\u001b[0m\u001b[1;33m.\u001b[0m\u001b[0m_update_set_signature_and_docstring\u001b[0m\u001b[1;33m(\u001b[0m\u001b[1;33m)\u001b[0m\u001b[1;33m\u001b[0m\u001b[1;33m\u001b[0m\u001b[0m\n\u001b[0m\u001b[0;32m    120\u001b[0m \u001b[1;33m\u001b[0m\u001b[0m\n\u001b[0;32m    121\u001b[0m     _PROPERTIES_EXCLUDED_FROM_SET = [\n",
      "\u001b[1;32m~\\anaconda3\\lib\\site-packages\\matplotlib\\artist.py\u001b[0m in \u001b[0;36m_update_set_signature_and_docstring\u001b[1;34m(cls)\u001b[0m\n\u001b[0;32m    145\u001b[0m             \u001b[1;34m\"Set multiple properties at once.\\n\\n\"\u001b[0m\u001b[1;33m\u001b[0m\u001b[1;33m\u001b[0m\u001b[0m\n\u001b[0;32m    146\u001b[0m             \u001b[1;34m\"Supported properties are\\n\\n\"\u001b[0m\u001b[1;33m\u001b[0m\u001b[1;33m\u001b[0m\u001b[0m\n\u001b[1;32m--> 147\u001b[1;33m             + kwdoc(cls))\n\u001b[0m\u001b[0;32m    148\u001b[0m \u001b[1;33m\u001b[0m\u001b[0m\n\u001b[0;32m    149\u001b[0m     \u001b[1;32mdef\u001b[0m \u001b[0m__init__\u001b[0m\u001b[1;33m(\u001b[0m\u001b[0mself\u001b[0m\u001b[1;33m)\u001b[0m\u001b[1;33m:\u001b[0m\u001b[1;33m\u001b[0m\u001b[1;33m\u001b[0m\u001b[0m\n",
      "\u001b[1;32m~\\anaconda3\\lib\\site-packages\\matplotlib\\artist.py\u001b[0m in \u001b[0;36mkwdoc\u001b[1;34m(artist)\u001b[0m\n\u001b[0;32m   1744\u001b[0m         use in Sphinx) if it is True.\n\u001b[0;32m   1745\u001b[0m     \"\"\"\n\u001b[1;32m-> 1746\u001b[1;33m     \u001b[0mai\u001b[0m \u001b[1;33m=\u001b[0m \u001b[0mArtistInspector\u001b[0m\u001b[1;33m(\u001b[0m\u001b[0martist\u001b[0m\u001b[1;33m)\u001b[0m\u001b[1;33m\u001b[0m\u001b[1;33m\u001b[0m\u001b[0m\n\u001b[0m\u001b[0;32m   1747\u001b[0m     return ('\\n'.join(ai.pprint_setters_rest(leadingspace=4))\n\u001b[0;32m   1748\u001b[0m             \u001b[1;32mif\u001b[0m \u001b[0mmpl\u001b[0m\u001b[1;33m.\u001b[0m\u001b[0mrcParams\u001b[0m\u001b[1;33m[\u001b[0m\u001b[1;34m'docstring.hardcopy'\u001b[0m\u001b[1;33m]\u001b[0m \u001b[1;32melse\u001b[0m\u001b[1;33m\u001b[0m\u001b[1;33m\u001b[0m\u001b[0m\n",
      "\u001b[1;32m~\\anaconda3\\lib\\site-packages\\matplotlib\\artist.py\u001b[0m in \u001b[0;36m__init__\u001b[1;34m(self, o)\u001b[0m\n\u001b[0;32m   1343\u001b[0m         \u001b[0mself\u001b[0m\u001b[1;33m.\u001b[0m\u001b[0mo\u001b[0m \u001b[1;33m=\u001b[0m \u001b[0mo\u001b[0m\u001b[1;33m\u001b[0m\u001b[1;33m\u001b[0m\u001b[0m\n\u001b[0;32m   1344\u001b[0m \u001b[1;33m\u001b[0m\u001b[0m\n\u001b[1;32m-> 1345\u001b[1;33m         \u001b[0mself\u001b[0m\u001b[1;33m.\u001b[0m\u001b[0maliasd\u001b[0m \u001b[1;33m=\u001b[0m \u001b[0mself\u001b[0m\u001b[1;33m.\u001b[0m\u001b[0mget_aliases\u001b[0m\u001b[1;33m(\u001b[0m\u001b[1;33m)\u001b[0m\u001b[1;33m\u001b[0m\u001b[1;33m\u001b[0m\u001b[0m\n\u001b[0m\u001b[0;32m   1346\u001b[0m \u001b[1;33m\u001b[0m\u001b[0m\n\u001b[0;32m   1347\u001b[0m     \u001b[1;32mdef\u001b[0m \u001b[0mget_aliases\u001b[0m\u001b[1;33m(\u001b[0m\u001b[0mself\u001b[0m\u001b[1;33m)\u001b[0m\u001b[1;33m:\u001b[0m\u001b[1;33m\u001b[0m\u001b[1;33m\u001b[0m\u001b[0m\n",
      "\u001b[1;32m~\\anaconda3\\lib\\site-packages\\matplotlib\\artist.py\u001b[0m in \u001b[0;36mget_aliases\u001b[1;34m(self)\u001b[0m\n\u001b[0;32m   1362\u001b[0m         \u001b[1;32mfor\u001b[0m \u001b[0mname\u001b[0m \u001b[1;32min\u001b[0m \u001b[0mnames\u001b[0m\u001b[1;33m:\u001b[0m\u001b[1;33m\u001b[0m\u001b[1;33m\u001b[0m\u001b[0m\n\u001b[0;32m   1363\u001b[0m             \u001b[0mfunc\u001b[0m \u001b[1;33m=\u001b[0m \u001b[0mgetattr\u001b[0m\u001b[1;33m(\u001b[0m\u001b[0mself\u001b[0m\u001b[1;33m.\u001b[0m\u001b[0mo\u001b[0m\u001b[1;33m,\u001b[0m \u001b[0mname\u001b[0m\u001b[1;33m)\u001b[0m\u001b[1;33m\u001b[0m\u001b[1;33m\u001b[0m\u001b[0m\n\u001b[1;32m-> 1364\u001b[1;33m             \u001b[1;32mif\u001b[0m \u001b[1;32mnot\u001b[0m \u001b[0mself\u001b[0m\u001b[1;33m.\u001b[0m\u001b[0mis_alias\u001b[0m\u001b[1;33m(\u001b[0m\u001b[0mfunc\u001b[0m\u001b[1;33m)\u001b[0m\u001b[1;33m:\u001b[0m\u001b[1;33m\u001b[0m\u001b[1;33m\u001b[0m\u001b[0m\n\u001b[0m\u001b[0;32m   1365\u001b[0m                 \u001b[1;32mcontinue\u001b[0m\u001b[1;33m\u001b[0m\u001b[1;33m\u001b[0m\u001b[0m\n\u001b[0;32m   1366\u001b[0m             propname = re.search(\"`({}.*)`\".format(name[:4]),  # get_.*/set_.*\n",
      "\u001b[1;32m~\\anaconda3\\lib\\site-packages\\matplotlib\\artist.py\u001b[0m in \u001b[0;36mis_alias\u001b[1;34m(self, o)\u001b[0m\n\u001b[0;32m   1441\u001b[0m     \u001b[1;32mdef\u001b[0m \u001b[0mis_alias\u001b[0m\u001b[1;33m(\u001b[0m\u001b[0mself\u001b[0m\u001b[1;33m,\u001b[0m \u001b[0mo\u001b[0m\u001b[1;33m)\u001b[0m\u001b[1;33m:\u001b[0m\u001b[1;33m\u001b[0m\u001b[1;33m\u001b[0m\u001b[0m\n\u001b[0;32m   1442\u001b[0m         \u001b[1;34m\"\"\"Return whether method object *o* is an alias for another method.\"\"\"\u001b[0m\u001b[1;33m\u001b[0m\u001b[1;33m\u001b[0m\u001b[0m\n\u001b[1;32m-> 1443\u001b[1;33m         \u001b[0mds\u001b[0m \u001b[1;33m=\u001b[0m \u001b[0minspect\u001b[0m\u001b[1;33m.\u001b[0m\u001b[0mgetdoc\u001b[0m\u001b[1;33m(\u001b[0m\u001b[0mo\u001b[0m\u001b[1;33m)\u001b[0m\u001b[1;33m\u001b[0m\u001b[1;33m\u001b[0m\u001b[0m\n\u001b[0m\u001b[0;32m   1444\u001b[0m         \u001b[1;32mif\u001b[0m \u001b[0mds\u001b[0m \u001b[1;32mis\u001b[0m \u001b[1;32mNone\u001b[0m\u001b[1;33m:\u001b[0m\u001b[1;33m\u001b[0m\u001b[1;33m\u001b[0m\u001b[0m\n\u001b[0;32m   1445\u001b[0m             \u001b[1;32mreturn\u001b[0m \u001b[1;32mFalse\u001b[0m\u001b[1;33m\u001b[0m\u001b[1;33m\u001b[0m\u001b[0m\n",
      "\u001b[1;32m~\\anaconda3\\lib\\inspect.py\u001b[0m in \u001b[0;36mgetdoc\u001b[1;34m(object)\u001b[0m\n\u001b[0;32m    622\u001b[0m     \u001b[1;32mif\u001b[0m \u001b[1;32mnot\u001b[0m \u001b[0misinstance\u001b[0m\u001b[1;33m(\u001b[0m\u001b[0mdoc\u001b[0m\u001b[1;33m,\u001b[0m \u001b[0mstr\u001b[0m\u001b[1;33m)\u001b[0m\u001b[1;33m:\u001b[0m\u001b[1;33m\u001b[0m\u001b[1;33m\u001b[0m\u001b[0m\n\u001b[0;32m    623\u001b[0m         \u001b[1;32mreturn\u001b[0m \u001b[1;32mNone\u001b[0m\u001b[1;33m\u001b[0m\u001b[1;33m\u001b[0m\u001b[0m\n\u001b[1;32m--> 624\u001b[1;33m     \u001b[1;32mreturn\u001b[0m \u001b[0mcleandoc\u001b[0m\u001b[1;33m(\u001b[0m\u001b[0mdoc\u001b[0m\u001b[1;33m)\u001b[0m\u001b[1;33m\u001b[0m\u001b[1;33m\u001b[0m\u001b[0m\n\u001b[0m\u001b[0;32m    625\u001b[0m \u001b[1;33m\u001b[0m\u001b[0m\n\u001b[0;32m    626\u001b[0m \u001b[1;32mdef\u001b[0m \u001b[0mcleandoc\u001b[0m\u001b[1;33m(\u001b[0m\u001b[0mdoc\u001b[0m\u001b[1;33m)\u001b[0m\u001b[1;33m:\u001b[0m\u001b[1;33m\u001b[0m\u001b[1;33m\u001b[0m\u001b[0m\n",
      "\u001b[1;32m~\\anaconda3\\lib\\inspect.py\u001b[0m in \u001b[0;36mcleandoc\u001b[1;34m(doc)\u001b[0m\n\u001b[0;32m    649\u001b[0m         \u001b[1;32mwhile\u001b[0m \u001b[0mlines\u001b[0m \u001b[1;32mand\u001b[0m \u001b[1;32mnot\u001b[0m \u001b[0mlines\u001b[0m\u001b[1;33m[\u001b[0m\u001b[1;33m-\u001b[0m\u001b[1;36m1\u001b[0m\u001b[1;33m]\u001b[0m\u001b[1;33m:\u001b[0m\u001b[1;33m\u001b[0m\u001b[1;33m\u001b[0m\u001b[0m\n\u001b[0;32m    650\u001b[0m             \u001b[0mlines\u001b[0m\u001b[1;33m.\u001b[0m\u001b[0mpop\u001b[0m\u001b[1;33m(\u001b[0m\u001b[1;33m)\u001b[0m\u001b[1;33m\u001b[0m\u001b[1;33m\u001b[0m\u001b[0m\n\u001b[1;32m--> 651\u001b[1;33m         \u001b[1;32mwhile\u001b[0m \u001b[0mlines\u001b[0m \u001b[1;32mand\u001b[0m \u001b[1;32mnot\u001b[0m \u001b[0mlines\u001b[0m\u001b[1;33m[\u001b[0m\u001b[1;36m0\u001b[0m\u001b[1;33m]\u001b[0m\u001b[1;33m:\u001b[0m\u001b[1;33m\u001b[0m\u001b[1;33m\u001b[0m\u001b[0m\n\u001b[0m\u001b[0;32m    652\u001b[0m             \u001b[0mlines\u001b[0m\u001b[1;33m.\u001b[0m\u001b[0mpop\u001b[0m\u001b[1;33m(\u001b[0m\u001b[1;36m0\u001b[0m\u001b[1;33m)\u001b[0m\u001b[1;33m\u001b[0m\u001b[1;33m\u001b[0m\u001b[0m\n\u001b[0;32m    653\u001b[0m         \u001b[1;32mreturn\u001b[0m \u001b[1;34m'\\n'\u001b[0m\u001b[1;33m.\u001b[0m\u001b[0mjoin\u001b[0m\u001b[1;33m(\u001b[0m\u001b[0mlines\u001b[0m\u001b[1;33m)\u001b[0m\u001b[1;33m\u001b[0m\u001b[1;33m\u001b[0m\u001b[0m\n",
      "\u001b[1;31mKeyboardInterrupt\u001b[0m: "
     ]
    }
   ],
   "source": [
    "import pandas as pd\n",
    "import seaborn as sb\n",
    "import matplotlib as mat\n",
    "import matplotlib.pyplot as plt\n",
    "from tabulate import tabulate"
   ]
  },
  {
   "cell_type": "code",
   "execution_count": null,
   "id": "2116c2a2",
   "metadata": {},
   "outputs": [],
   "source": [
    "d=pd.read_csv('C:/Users/user/DS1_C5_S3_BazilHousing_Data_Hackathon.csv')\n",
    "d"
   ]
  },
  {
   "cell_type": "markdown",
   "id": "f522e7fb",
   "metadata": {},
   "source": [
    "### Level 0 analysis"
   ]
  },
  {
   "cell_type": "code",
   "execution_count": null,
   "id": "3515d1e5",
   "metadata": {},
   "outputs": [],
   "source": [
    "df=d[(d.city!='São Paulo') & (d.city!='Rio de Janeiro')]\n",
    "df"
   ]
  },
  {
   "cell_type": "code",
   "execution_count": null,
   "id": "96eaae52",
   "metadata": {},
   "outputs": [],
   "source": [
    "df.columns"
   ]
  },
  {
   "cell_type": "code",
   "execution_count": null,
   "id": "94db3a00",
   "metadata": {},
   "outputs": [],
   "source": [
    "df.head()"
   ]
  },
  {
   "cell_type": "code",
   "execution_count": null,
   "id": "8e15590c",
   "metadata": {},
   "outputs": [],
   "source": [
    "df.tail()"
   ]
  },
  {
   "cell_type": "code",
   "execution_count": null,
   "id": "b43021d9",
   "metadata": {},
   "outputs": [],
   "source": [
    "df.info()"
   ]
  },
  {
   "cell_type": "code",
   "execution_count": null,
   "id": "4199eb2c",
   "metadata": {},
   "outputs": [],
   "source": [
    "df.shape"
   ]
  },
  {
   "cell_type": "code",
   "execution_count": null,
   "id": "73b3a60a",
   "metadata": {},
   "outputs": [],
   "source": [
    "df.isnull().sum()"
   ]
  },
  {
   "cell_type": "markdown",
   "id": "f6b2788c",
   "metadata": {},
   "source": [
    "### Level 1 analysis"
   ]
  },
  {
   "cell_type": "code",
   "execution_count": null,
   "id": "f4ebdf88",
   "metadata": {},
   "outputs": [],
   "source": [
    "def data_type_check(df):\n",
    "    num=[]\n",
    "    cat=[]\n",
    "    for col in df.columns:\n",
    "        if df[col].dtype == object:\n",
    "            cat.append(col)\n",
    "        else:\n",
    "            num.append(col)\n",
    "    return num,cat"
   ]
  },
  {
   "cell_type": "code",
   "execution_count": null,
   "id": "aef655ef",
   "metadata": {},
   "outputs": [],
   "source": [
    "num,cat=data_type_check(df)\n",
    "table=[num,cat]\n",
    "print(tabulate ({\"Numerical\":num,\"Categorical\":cat},headers=['Numerical','Categorical']))"
   ]
  },
  {
   "cell_type": "markdown",
   "id": "33af25a9",
   "metadata": {},
   "source": [
    "If bachelor wants to relocated to different cities, he/she needs to figure out various factors such as:\n",
    "1)Rent amount should not be high enough\n",
    "2)consider the non furnished house\n",
    "3)can manage in only 1 bathroom\n",
    "4)does not need more rooms"
   ]
  },
  {
   "cell_type": "code",
   "execution_count": null,
   "id": "ecb04933",
   "metadata": {},
   "outputs": [],
   "source": [
    "def info_of_cat(col):\n",
    "    print(f\" unique values in {col} are:{df[col].unique()}\")\n",
    "    print(f\" Mode of {col} is:{df[col].mode()[0]}\")\n",
    "    print(f\" Total missing values in {col} is:{df[col].isnull().sum()}\")"
   ]
  },
  {
   "cell_type": "code",
   "execution_count": null,
   "id": "849a92a6",
   "metadata": {},
   "outputs": [],
   "source": [
    "info_of_cat('city')"
   ]
  },
  {
   "cell_type": "code",
   "execution_count": null,
   "id": "4ad86f0a",
   "metadata": {},
   "outputs": [],
   "source": [
    "def info_of_numerical(col):\n",
    "    print(f\" Mean of {col} is:{df[col].mean()}\")\n",
    "    print(f\" Median of {col} is:{df[col].median()}\")\n",
    "    print(f\" Standard Deviation of {col} is:{df[col].std()}\")\n",
    "    print(f\" Count of missing value in {col} is:{df[col].isnull().sum()}\")    "
   ]
  },
  {
   "cell_type": "code",
   "execution_count": null,
   "id": "1fca05ee",
   "metadata": {},
   "outputs": [],
   "source": [
    "info_of_numerical('rooms')"
   ]
  },
  {
   "cell_type": "code",
   "execution_count": null,
   "id": "7cb1d601",
   "metadata": {},
   "outputs": [],
   "source": [
    "info_of_numerical('bathroom')"
   ]
  },
  {
   "cell_type": "code",
   "execution_count": null,
   "id": "6b399cd3",
   "metadata": {},
   "outputs": [],
   "source": [
    "info_of_numerical('rent amount (R$)')"
   ]
  },
  {
   "cell_type": "code",
   "execution_count": null,
   "id": "42031237",
   "metadata": {},
   "outputs": [],
   "source": [
    "info_of_numerical('parking spaces')"
   ]
  },
  {
   "cell_type": "code",
   "execution_count": null,
   "id": "3add7588",
   "metadata": {},
   "outputs": [],
   "source": [
    "fig,ax=plt.subplots(figsize=(15,7))\n",
    "bins=[0,2,4,6,8,10]\n",
    "ax.set_title('Count of rooms')\n",
    "sb.histplot(x=df['rooms'],bins=bins)\n",
    "plt.show()"
   ]
  },
  {
   "cell_type": "markdown",
   "id": "b9476d16",
   "metadata": {},
   "source": [
    "Majority of houses in the city have 2 to 4 rooms"
   ]
  },
  {
   "cell_type": "code",
   "execution_count": null,
   "id": "ea6de4ad",
   "metadata": {},
   "outputs": [],
   "source": [
    "fig,ax=plt.subplots(figsize=(15,7))\n",
    "bin=[2,4,6,8,10]\n",
    "ax.set_title('Count of bathrooms')\n",
    "sb.histplot(x=df['bathroom'],bins=bin)\n",
    "plt.show()"
   ]
  },
  {
   "cell_type": "markdown",
   "id": "013e980c",
   "metadata": {},
   "source": [
    "90% of the houses have bathrooms between 2 to 4"
   ]
  },
  {
   "cell_type": "code",
   "execution_count": null,
   "id": "18de8afc",
   "metadata": {},
   "outputs": [],
   "source": [
    "fig,ax=plt.subplots(figsize=(15,7))\n",
    "ax.set_title('Count of houses with their rents')\n",
    "sb.histplot(x=df['rent amount (R$)'])\n",
    "plt.show()"
   ]
  },
  {
   "cell_type": "markdown",
   "id": "4895cf2a",
   "metadata": {},
   "source": [
    "Average rent amount of houses are between 1k to 2k. Some have higher rent amount which are outliers"
   ]
  },
  {
   "cell_type": "code",
   "execution_count": null,
   "id": "a8372a44",
   "metadata": {},
   "outputs": [],
   "source": [
    "def info_of_cat(col):\n",
    "    print(f\" unique values in {col} are:{df[col].unique()}\")\n",
    "    print(f\" Mode of {col} is:{df[col].mode()[0]}\")\n",
    "    print(f\" Total missing values in {col} is:{df[col].isnull().sum()}\")"
   ]
  },
  {
   "cell_type": "code",
   "execution_count": null,
   "id": "727fc2ee",
   "metadata": {},
   "outputs": [],
   "source": [
    "info_of_cat('city')"
   ]
  },
  {
   "cell_type": "code",
   "execution_count": null,
   "id": "d2f7797c",
   "metadata": {},
   "outputs": [],
   "source": [
    "fig,ax=plt.subplots(1,2,figsize=(15,7))\n",
    "ax[0].set_title('Count of houses in the cities')\n",
    "data=df['city'].value_counts()\n",
    "lbl=data.keys()\n",
    "sb.countplot(x=df['city'],ax=ax[0])\n",
    "plt.pie(data,labels=lbl,autopct='%0.2f%%')\n",
    "plt.show()"
   ]
  },
  {
   "cell_type": "markdown",
   "id": "aeba2e6a",
   "metadata": {},
   "source": [
    "This pie chart is a composition of houses in different cities."
   ]
  },
  {
   "cell_type": "code",
   "execution_count": null,
   "id": "fcecf632",
   "metadata": {},
   "outputs": [],
   "source": [
    "fig,ax=plt.subplots(1,2,figsize=(15,7))\n",
    "ax[0].set_title('Count of furnished/non furnished houses')\n",
    "data=df['furniture'].value_counts()\n",
    "lbl=data.keys()\n",
    "sb.countplot(x=df['furniture'],ax=ax[0])\n",
    "plt.pie(data,labels=lbl,autopct='%0.2f%%',explode=[0.03,0.0])\n",
    "plt.show()"
   ]
  },
  {
   "cell_type": "markdown",
   "id": "4abb07d9",
   "metadata": {},
   "source": [
    "Almost 82% of the houses in the cities are non furnished."
   ]
  },
  {
   "cell_type": "code",
   "execution_count": null,
   "id": "e0ecfc81",
   "metadata": {},
   "outputs": [],
   "source": [
    "bachlor=df[(df['bathroom']<=1) & (df['rooms']<=2)]\n",
    "bachlor"
   ]
  },
  {
   "cell_type": "code",
   "execution_count": null,
   "id": "56f220da",
   "metadata": {},
   "outputs": [],
   "source": [
    "fig,ax=plt.subplots(1,2,figsize=(15,7))\n",
    "ax[0].set_title('Property distribution in each cities')\n",
    "data=bachlor['city'].value_counts()\n",
    "lbl=data.keys()\n",
    "sb.countplot(x=bachlor['city'],ax=ax[0])\n",
    "plt.pie(data,labels=lbl,autopct='%0.2f%%',explode=[0.01,0.01,0.0])\n",
    "plt.show()"
   ]
  },
  {
   "cell_type": "markdown",
   "id": "bd9e10db",
   "metadata": {},
   "source": [
    "There are approx 600 properties in Porto Alegre which helps in giving more number of options to the buyer. While Campinas have nearly 400 properties"
   ]
  },
  {
   "cell_type": "code",
   "execution_count": null,
   "id": "6705a00c",
   "metadata": {},
   "outputs": [],
   "source": [
    "fig,ax=plt.subplots(1,2,figsize=(15,7))\n",
    "sb.set_palette('deep')\n",
    "ax[0].set_title('Rent amount of furnished and non furnished houses')\n",
    "sb.histplot(hue=bachlor['furniture'],x=bachlor['rent amount (R$)'],ax=ax[0])\n",
    "sb.boxplot(x=bachlor['furniture'],y=bachlor['rent amount (R$)'],ax=ax[1])\n",
    "plt.show()"
   ]
  },
  {
   "cell_type": "markdown",
   "id": "0fe898ec",
   "metadata": {},
   "source": [
    "The room that are not furnished have the rental amount between 900 to 1100 while the furnished house have rent between 1200 to 2100. There are some non furnished room with rent greater than 2000. "
   ]
  },
  {
   "cell_type": "code",
   "execution_count": null,
   "id": "922a5be4",
   "metadata": {},
   "outputs": [],
   "source": [
    "un_fur=df[(df['furniture']=='not furnished')]\n",
    "un_fur"
   ]
  },
  {
   "cell_type": "code",
   "execution_count": null,
   "id": "4dc47dd9",
   "metadata": {},
   "outputs": [],
   "source": [
    "fig,ax=plt.subplots(1,2,figsize=(15,7))\n",
    "sb.set_palette('deep')\n",
    "ax[0].set_title('Rent amount of unfurnished house in different cities')\n",
    "sb.barplot(y=un_fur['city'],x=un_fur['rent amount (R$)'],ax=ax[0])\n",
    "sb.boxplot(x=un_fur['city'],y=un_fur['rent amount (R$)'],ax=ax[1])\n",
    "plt.show()"
   ]
  },
  {
   "cell_type": "markdown",
   "id": "c0275cbf",
   "metadata": {},
   "source": [
    "The room rent in Porto Alegre is cheaper as compared to other cities. But there are some houses in Porto Alegre which have price greater than 5k. The high price of these houses is due to location where it is present or some are providing costly exteriors."
   ]
  },
  {
   "cell_type": "code",
   "execution_count": null,
   "id": "6eed64a5",
   "metadata": {},
   "outputs": [],
   "source": [
    "fig,ax=plt.subplots(figsize=(15,7))\n",
    "ax.set_title('Count of rooms in different cities')\n",
    "sb.countplot(x=bachlor['rooms'],hue=bachlor['city'])\n",
    "plt.show()"
   ]
  },
  {
   "cell_type": "markdown",
   "id": "6c027ba1",
   "metadata": {},
   "source": [
    "Bachelor's can only manage in 1 room. They can save their salary by reducing the expenditure on multi room set. There are more opportunities of 1 room in Porto Alegre with count 350 while Campinas have 200 count."
   ]
  },
  {
   "cell_type": "markdown",
   "id": "dd0d68f9",
   "metadata": {},
   "source": [
    "There are variety of options in Porto Alegre as compared to other cities and these factors also differentiate it from other cities. So bachelors should prefer to relocate to Porto Alegre."
   ]
  },
  {
   "cell_type": "markdown",
   "id": "e35514ee",
   "metadata": {},
   "source": [
    "If mid size families wants to relocated to different cities, he/she needs to figure out various factors such as:\n",
    "1)need minimum 1 bathroom\n",
    "2)need atleast 1 parking space\n",
    "3)rent should not be high\n",
    "4)need minimum 3 rooms\n",
    "5)area should not be small"
   ]
  },
  {
   "cell_type": "code",
   "execution_count": null,
   "id": "71bef407",
   "metadata": {},
   "outputs": [],
   "source": [
    "#filtering the houses with 1 bathroom,1 parking space and rooms should be 3"
   ]
  },
  {
   "cell_type": "code",
   "execution_count": null,
   "id": "e98a3625",
   "metadata": {},
   "outputs": [],
   "source": [
    "mid_fam=df[(df['bathroom']==1) & (df['parking spaces']==1) & (df['rooms']==3)]\n",
    "mid_fam"
   ]
  },
  {
   "cell_type": "code",
   "execution_count": null,
   "id": "38e7a238",
   "metadata": {},
   "outputs": [],
   "source": [
    "sb.set_palette('pastel')\n",
    "fig,ax=plt.subplots(1,2,figsize=(15,7))\n",
    "ax[0].set_title('Property distribution in each cities')\n",
    "data=mid_fam['city'].value_counts()\n",
    "lbl=data.keys()\n",
    "sb.countplot(x=mid_fam['city'],ax=ax[0])\n",
    "plt.pie(data,labels=lbl,autopct='%0.2f%%',explode=[0.01,0.01,0.0])\n",
    "plt.show()"
   ]
  },
  {
   "cell_type": "markdown",
   "id": "4849feaf",
   "metadata": {},
   "source": [
    "There are more availability of properties in Bela Horizonte as compared to other 2 cities."
   ]
  },
  {
   "cell_type": "code",
   "execution_count": null,
   "id": "fa17a009",
   "metadata": {},
   "outputs": [],
   "source": [
    "fig,ax=plt.subplots(1,2,figsize=(15,7))\n",
    "ax[0].set_title('Rent amount in different cities')\n",
    "sb.barplot(x=mid_fam['rent amount (R$)'],y=mid_fam['city'],ax=ax[0])\n",
    "sb.boxplot(x=mid_fam['rent amount (R$)'],y=mid_fam['city'],ax=ax[1])\n",
    "plt.show()"
   ]
  },
  {
   "cell_type": "markdown",
   "id": "0c5e8152",
   "metadata": {},
   "source": [
    "The average rent amount of the house in Bela horizonte is less as compared to other cities where the family get minimum 1 bathroom,1 parking space and 3 rooms."
   ]
  },
  {
   "cell_type": "code",
   "execution_count": null,
   "id": "73c22f8f",
   "metadata": {},
   "outputs": [],
   "source": [
    "fig,ax=plt.subplots(figsize=(15,7))\n",
    "ax.set_title('Count of rooms in different cities')\n",
    "sb.countplot(hue=df['city'],x=df['rooms'])\n",
    "plt.show()"
   ]
  },
  {
   "cell_type": "markdown",
   "id": "5acd2e36",
   "metadata": {},
   "source": [
    "Bela Horizonte have maximum number of 3 room houses. So selecting the house becomes easier when there are lots of options"
   ]
  },
  {
   "cell_type": "code",
   "execution_count": null,
   "id": "1f3da60f",
   "metadata": {},
   "outputs": [],
   "source": [
    "sb.set_palette('dark')\n",
    "fig,ax=plt.subplots(1,2,figsize=(15,7))\n",
    "ax[0].set_title('Comaprison of price between furnished and non furnished')\n",
    "sb.histplot(hue=mid_fam['furniture'],x=mid_fam['total (R$)'],ax=ax[0],kde=True)\n",
    "sb.boxplot(y=mid_fam['furniture'],x=mid_fam['total (R$)'],ax=ax[1])\n",
    "plt.show()"
   ]
  },
  {
   "cell_type": "markdown",
   "id": "385ab22e",
   "metadata": {},
   "source": [
    "There are approx 70 houses where total expense on the property is between 1900 to 2100 where house are unfurnished. The total expense includes homeowner association tax, rent amount, fire insurance and property tax. The kde curve also shows the asymetric distribution of the data. The data of non furnished house is right skewed while the data of furnished house is left skewed"
   ]
  },
  {
   "cell_type": "markdown",
   "id": "719523fc",
   "metadata": {},
   "source": [
    "### Mid size family should relocate to Bela Horizonte because:\n",
    "    More availibility of properties\n",
    "    Comparitively lower rent\n",
    "    More options of 3 rooms houses"
   ]
  },
  {
   "cell_type": "markdown",
   "id": "0e8ba5dc",
   "metadata": {},
   "source": [
    "If large size families wants to relocated to different cities, he/she needs to figure out various factors such as:\n",
    "1)area should be large\n",
    "2)need atleast 3 parking space\n",
    "3)need minimum 3 bathroom\n",
    "4)need minimum 5 rooms\n",
    "5)some pet lovers need to check for acceptance of animal(optional)\n",
    "6)there should be no floors"
   ]
  },
  {
   "cell_type": "markdown",
   "id": "b75e549a",
   "metadata": {},
   "source": [
    "filtering the houses where there should be minimum 3 bathrooms. There should be minimum 3 vehicle parking spaces and atleast 5 rooms should be there. Since we have to filter houses fo rlarge family so they don't want to live in a flat or where different floors are there. So there should be no floors."
   ]
  },
  {
   "cell_type": "code",
   "execution_count": null,
   "id": "c4c59eb1",
   "metadata": {},
   "outputs": [],
   "source": [
    "large_fam=df[(df['bathroom']>=3) & (df['parking spaces']>=3) & (df['rooms']>=5) & (df['floor']==0)]\n",
    "large_fam"
   ]
  },
  {
   "cell_type": "code",
   "execution_count": null,
   "id": "3883b60d",
   "metadata": {},
   "outputs": [],
   "source": [
    "sb.set_palette('muted')\n",
    "fig,ax=plt.subplots(1,2,figsize=(15,7))\n",
    "ax[0].set_title('Property distribution in each cities')\n",
    "data=large_fam['city'].value_counts()\n",
    "lbl=data.keys()\n",
    "sb.countplot(x=large_fam['city'],ax=ax[0])\n",
    "plt.pie(data,labels=lbl,autopct='%0.2f%%',explode=[0.01,0.01,0.0])\n",
    "plt.show()"
   ]
  },
  {
   "cell_type": "markdown",
   "id": "f70e64ca",
   "metadata": {},
   "source": [
    "There are 70% large houses in Bela Horizonte as compared to other cities."
   ]
  },
  {
   "cell_type": "code",
   "execution_count": null,
   "id": "ee0c19c3",
   "metadata": {},
   "outputs": [],
   "source": [
    "sb.set_palette('pastel')\n",
    "fig,ax=plt.subplots(figsize=(15,7))\n",
    "ax.set_title('Count of rooms in different cities')\n",
    "sb.countplot(x=large_fam['rooms'],hue=large_fam['city'])\n",
    "plt.show()"
   ]
  },
  {
   "cell_type": "markdown",
   "id": "b03fe27d",
   "metadata": {},
   "source": [
    "Belo Horizonte have large number of houses with rooms greater than 5. So large families can relocate to this city."
   ]
  },
  {
   "cell_type": "code",
   "execution_count": null,
   "id": "76d00a60",
   "metadata": {},
   "outputs": [],
   "source": [
    "fig,ax=plt.subplots(figsize=(15,7))\n",
    "sb.set_palette('dark')\n",
    "ax.set_title('Property Area in different cities ')\n",
    "sb.kdeplot(hue=large_fam['city'],x=large_fam['area'],shade=True)\n",
    "plt.show()"
   ]
  },
  {
   "cell_type": "markdown",
   "id": "4fbac9e6",
   "metadata": {},
   "source": [
    "The houses in Bela Horizonte has larger area of houses as compared to other locations. Maximum houses have the area between 300 to 400."
   ]
  },
  {
   "cell_type": "code",
   "execution_count": null,
   "id": "3a6796bd",
   "metadata": {},
   "outputs": [],
   "source": [
    "fig,ax=plt.subplots(figsize=(15,7))\n",
    "ax.set_title('Acceptance of pets in the city')\n",
    "sb.countplot(x=large_fam['animal'],hue=large_fam['city'])\n",
    "plt.show()"
   ]
  },
  {
   "cell_type": "markdown",
   "id": "1ae424a3",
   "metadata": {},
   "source": [
    "The pet lovers want to relocate to the cities where pets are accepted. So they should move to Belo Horizonte where pets are accepted."
   ]
  },
  {
   "cell_type": "markdown",
   "id": "c7ff8cc9",
   "metadata": {},
   "source": [
    "### According to my analysis, I have conclude that large sized family should prefer to relocate to Bela Horizonte because:\n",
    "    The availibility of choosing the property is more.\n",
    "    More count of room \n",
    "    Houses have larger area\n",
    "    Animals are accepted"
   ]
  },
  {
   "cell_type": "code",
   "execution_count": null,
   "id": "3daa08d5",
   "metadata": {},
   "outputs": [],
   "source": [
    "fig,ax=plt.subplots(figsize=(15,7))\n",
    "sb.heatmap(df.corr(),cbar=True,linewidths=0.5,annot=True)\n",
    "plt.show()"
   ]
  },
  {
   "cell_type": "code",
   "execution_count": null,
   "id": "435d2007",
   "metadata": {},
   "outputs": [],
   "source": []
  }
 ],
 "metadata": {
  "kernelspec": {
   "display_name": "Python 3 (ipykernel)",
   "language": "python",
   "name": "python3"
  },
  "language_info": {
   "codemirror_mode": {
    "name": "ipython",
    "version": 3
   },
   "file_extension": ".py",
   "mimetype": "text/x-python",
   "name": "python",
   "nbconvert_exporter": "python",
   "pygments_lexer": "ipython3",
   "version": "3.9.13"
  }
 },
 "nbformat": 4,
 "nbformat_minor": 5
}
