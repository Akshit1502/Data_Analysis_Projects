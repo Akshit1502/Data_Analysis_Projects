{
 "cells": [
  {
   "cell_type": "markdown",
   "id": "16baf416",
   "metadata": {},
   "source": [
    "# Exploring Bank Churn Data"
   ]
  },
  {
   "cell_type": "markdown",
   "id": "0102a805",
   "metadata": {},
   "source": [
    "# Levels for Data Exploration\n",
    "\n",
    "* Level 0 : Understanding Data\n",
    "* Level 1 : Univariate Analysis "
   ]
  },
  {
   "cell_type": "markdown",
   "id": "1cd83a15",
   "metadata": {},
   "source": [
    "## Level 0 Tasks: Understanding Data\n",
    "\n",
    "1.Visually inspect the first few and last few rows of the data.\n",
    "2.Check the shape of the data frame.\n",
    "3.Check the count of null values in each column.\n",
    "4.Inspect all the column names and cross check with the data dictionary.\n",
    "5.Check the information of the data frame using the info() function."
   ]
  },
  {
   "cell_type": "markdown",
   "id": "5384e298",
   "metadata": {},
   "source": [
    "### Importing the necessary libraries "
   ]
  },
  {
   "cell_type": "code",
   "execution_count": 2,
   "id": "e657a457",
   "metadata": {},
   "outputs": [],
   "source": [
    "import pandas as pd\n",
    "import matplotlib.pyplot as plt\n",
    "import numpy as np\n",
    "import seaborn as sns\n",
    "import matplotlib as mat\n",
    "from tabulate import tabulate"
   ]
  },
  {
   "cell_type": "markdown",
   "id": "100b3850",
   "metadata": {},
   "source": [
    "### Reading the file "
   ]
  },
  {
   "cell_type": "code",
   "execution_count": 3,
   "id": "303d5a41",
   "metadata": {},
   "outputs": [
    {
     "data": {
      "text/html": [
       "<div>\n",
       "<style scoped>\n",
       "    .dataframe tbody tr th:only-of-type {\n",
       "        vertical-align: middle;\n",
       "    }\n",
       "\n",
       "    .dataframe tbody tr th {\n",
       "        vertical-align: top;\n",
       "    }\n",
       "\n",
       "    .dataframe thead th {\n",
       "        text-align: right;\n",
       "    }\n",
       "</style>\n",
       "<table border=\"1\" class=\"dataframe\">\n",
       "  <thead>\n",
       "    <tr style=\"text-align: right;\">\n",
       "      <th></th>\n",
       "      <th>CLIENTNUM</th>\n",
       "      <th>Attrition_Flag</th>\n",
       "      <th>Customer_Age</th>\n",
       "      <th>Gender</th>\n",
       "      <th>Dependent_count</th>\n",
       "      <th>Education_Level</th>\n",
       "      <th>Marital_Status</th>\n",
       "      <th>Income_Category</th>\n",
       "      <th>Card_Category</th>\n",
       "      <th>Months_on_book</th>\n",
       "      <th>Total_Relationship_Count</th>\n",
       "      <th>Months_Inactive_12_mon</th>\n",
       "      <th>Contacts_Count_12_mon</th>\n",
       "      <th>Credit_Limit</th>\n",
       "      <th>Total_Revolving_Bal</th>\n",
       "      <th>Avg_Open_To_Buy</th>\n",
       "      <th>Total_Trans_Amt</th>\n",
       "      <th>Total_Trans_Ct</th>\n",
       "      <th>Avg_Utilization_Ratio</th>\n",
       "    </tr>\n",
       "  </thead>\n",
       "  <tbody>\n",
       "    <tr>\n",
       "      <th>0</th>\n",
       "      <td>768805383</td>\n",
       "      <td>Existing Customer</td>\n",
       "      <td>45</td>\n",
       "      <td>M</td>\n",
       "      <td>3</td>\n",
       "      <td>High School</td>\n",
       "      <td>Married</td>\n",
       "      <td>$60K - $80K</td>\n",
       "      <td>Blue</td>\n",
       "      <td>39</td>\n",
       "      <td>5</td>\n",
       "      <td>1</td>\n",
       "      <td>3</td>\n",
       "      <td>12691.0</td>\n",
       "      <td>777</td>\n",
       "      <td>11914.0</td>\n",
       "      <td>1144</td>\n",
       "      <td>42</td>\n",
       "      <td>0.061</td>\n",
       "    </tr>\n",
       "    <tr>\n",
       "      <th>1</th>\n",
       "      <td>818770008</td>\n",
       "      <td>Existing Customer</td>\n",
       "      <td>49</td>\n",
       "      <td>F</td>\n",
       "      <td>5</td>\n",
       "      <td>Graduate</td>\n",
       "      <td>Single</td>\n",
       "      <td>Less than $40K</td>\n",
       "      <td>Blue</td>\n",
       "      <td>44</td>\n",
       "      <td>6</td>\n",
       "      <td>1</td>\n",
       "      <td>2</td>\n",
       "      <td>8256.0</td>\n",
       "      <td>864</td>\n",
       "      <td>7392.0</td>\n",
       "      <td>1291</td>\n",
       "      <td>33</td>\n",
       "      <td>0.105</td>\n",
       "    </tr>\n",
       "    <tr>\n",
       "      <th>2</th>\n",
       "      <td>713982108</td>\n",
       "      <td>Existing Customer</td>\n",
       "      <td>51</td>\n",
       "      <td>M</td>\n",
       "      <td>3</td>\n",
       "      <td>Graduate</td>\n",
       "      <td>Married</td>\n",
       "      <td>$80K - $120K</td>\n",
       "      <td>Blue</td>\n",
       "      <td>36</td>\n",
       "      <td>4</td>\n",
       "      <td>1</td>\n",
       "      <td>0</td>\n",
       "      <td>3418.0</td>\n",
       "      <td>0</td>\n",
       "      <td>3418.0</td>\n",
       "      <td>1887</td>\n",
       "      <td>20</td>\n",
       "      <td>0.000</td>\n",
       "    </tr>\n",
       "    <tr>\n",
       "      <th>3</th>\n",
       "      <td>769911858</td>\n",
       "      <td>Existing Customer</td>\n",
       "      <td>40</td>\n",
       "      <td>F</td>\n",
       "      <td>4</td>\n",
       "      <td>High School</td>\n",
       "      <td>Unknown</td>\n",
       "      <td>Less than $40K</td>\n",
       "      <td>Blue</td>\n",
       "      <td>34</td>\n",
       "      <td>3</td>\n",
       "      <td>4</td>\n",
       "      <td>1</td>\n",
       "      <td>3313.0</td>\n",
       "      <td>2517</td>\n",
       "      <td>796.0</td>\n",
       "      <td>1171</td>\n",
       "      <td>20</td>\n",
       "      <td>0.760</td>\n",
       "    </tr>\n",
       "    <tr>\n",
       "      <th>4</th>\n",
       "      <td>709106358</td>\n",
       "      <td>Existing Customer</td>\n",
       "      <td>40</td>\n",
       "      <td>M</td>\n",
       "      <td>3</td>\n",
       "      <td>Uneducated</td>\n",
       "      <td>Married</td>\n",
       "      <td>$60K - $80K</td>\n",
       "      <td>Blue</td>\n",
       "      <td>21</td>\n",
       "      <td>5</td>\n",
       "      <td>1</td>\n",
       "      <td>0</td>\n",
       "      <td>4716.0</td>\n",
       "      <td>0</td>\n",
       "      <td>4716.0</td>\n",
       "      <td>816</td>\n",
       "      <td>28</td>\n",
       "      <td>0.000</td>\n",
       "    </tr>\n",
       "    <tr>\n",
       "      <th>...</th>\n",
       "      <td>...</td>\n",
       "      <td>...</td>\n",
       "      <td>...</td>\n",
       "      <td>...</td>\n",
       "      <td>...</td>\n",
       "      <td>...</td>\n",
       "      <td>...</td>\n",
       "      <td>...</td>\n",
       "      <td>...</td>\n",
       "      <td>...</td>\n",
       "      <td>...</td>\n",
       "      <td>...</td>\n",
       "      <td>...</td>\n",
       "      <td>...</td>\n",
       "      <td>...</td>\n",
       "      <td>...</td>\n",
       "      <td>...</td>\n",
       "      <td>...</td>\n",
       "      <td>...</td>\n",
       "    </tr>\n",
       "    <tr>\n",
       "      <th>10122</th>\n",
       "      <td>772366833</td>\n",
       "      <td>Existing Customer</td>\n",
       "      <td>50</td>\n",
       "      <td>M</td>\n",
       "      <td>2</td>\n",
       "      <td>Graduate</td>\n",
       "      <td>Single</td>\n",
       "      <td>$40K - $60K</td>\n",
       "      <td>Blue</td>\n",
       "      <td>40</td>\n",
       "      <td>3</td>\n",
       "      <td>2</td>\n",
       "      <td>3</td>\n",
       "      <td>4003.0</td>\n",
       "      <td>1851</td>\n",
       "      <td>2152.0</td>\n",
       "      <td>15476</td>\n",
       "      <td>117</td>\n",
       "      <td>0.462</td>\n",
       "    </tr>\n",
       "    <tr>\n",
       "      <th>10123</th>\n",
       "      <td>710638233</td>\n",
       "      <td>Attrited Customer</td>\n",
       "      <td>41</td>\n",
       "      <td>M</td>\n",
       "      <td>2</td>\n",
       "      <td>Unknown</td>\n",
       "      <td>Divorced</td>\n",
       "      <td>$40K - $60K</td>\n",
       "      <td>Blue</td>\n",
       "      <td>25</td>\n",
       "      <td>4</td>\n",
       "      <td>2</td>\n",
       "      <td>3</td>\n",
       "      <td>4277.0</td>\n",
       "      <td>2186</td>\n",
       "      <td>2091.0</td>\n",
       "      <td>8764</td>\n",
       "      <td>69</td>\n",
       "      <td>0.511</td>\n",
       "    </tr>\n",
       "    <tr>\n",
       "      <th>10124</th>\n",
       "      <td>716506083</td>\n",
       "      <td>Attrited Customer</td>\n",
       "      <td>44</td>\n",
       "      <td>F</td>\n",
       "      <td>1</td>\n",
       "      <td>High School</td>\n",
       "      <td>Married</td>\n",
       "      <td>Less than $40K</td>\n",
       "      <td>Blue</td>\n",
       "      <td>36</td>\n",
       "      <td>5</td>\n",
       "      <td>3</td>\n",
       "      <td>4</td>\n",
       "      <td>5409.0</td>\n",
       "      <td>0</td>\n",
       "      <td>5409.0</td>\n",
       "      <td>10291</td>\n",
       "      <td>60</td>\n",
       "      <td>0.000</td>\n",
       "    </tr>\n",
       "    <tr>\n",
       "      <th>10125</th>\n",
       "      <td>717406983</td>\n",
       "      <td>Attrited Customer</td>\n",
       "      <td>30</td>\n",
       "      <td>M</td>\n",
       "      <td>2</td>\n",
       "      <td>Graduate</td>\n",
       "      <td>Unknown</td>\n",
       "      <td>$40K - $60K</td>\n",
       "      <td>Blue</td>\n",
       "      <td>36</td>\n",
       "      <td>4</td>\n",
       "      <td>3</td>\n",
       "      <td>3</td>\n",
       "      <td>5281.0</td>\n",
       "      <td>0</td>\n",
       "      <td>5281.0</td>\n",
       "      <td>8395</td>\n",
       "      <td>62</td>\n",
       "      <td>0.000</td>\n",
       "    </tr>\n",
       "    <tr>\n",
       "      <th>10126</th>\n",
       "      <td>714337233</td>\n",
       "      <td>Attrited Customer</td>\n",
       "      <td>43</td>\n",
       "      <td>F</td>\n",
       "      <td>2</td>\n",
       "      <td>Graduate</td>\n",
       "      <td>Married</td>\n",
       "      <td>Less than $40K</td>\n",
       "      <td>Silver</td>\n",
       "      <td>25</td>\n",
       "      <td>6</td>\n",
       "      <td>2</td>\n",
       "      <td>4</td>\n",
       "      <td>10388.0</td>\n",
       "      <td>1961</td>\n",
       "      <td>8427.0</td>\n",
       "      <td>10294</td>\n",
       "      <td>61</td>\n",
       "      <td>0.189</td>\n",
       "    </tr>\n",
       "  </tbody>\n",
       "</table>\n",
       "<p>10127 rows × 19 columns</p>\n",
       "</div>"
      ],
      "text/plain": [
       "       CLIENTNUM     Attrition_Flag  Customer_Age Gender  Dependent_count  \\\n",
       "0      768805383  Existing Customer            45      M                3   \n",
       "1      818770008  Existing Customer            49      F                5   \n",
       "2      713982108  Existing Customer            51      M                3   \n",
       "3      769911858  Existing Customer            40      F                4   \n",
       "4      709106358  Existing Customer            40      M                3   \n",
       "...          ...                ...           ...    ...              ...   \n",
       "10122  772366833  Existing Customer            50      M                2   \n",
       "10123  710638233  Attrited Customer            41      M                2   \n",
       "10124  716506083  Attrited Customer            44      F                1   \n",
       "10125  717406983  Attrited Customer            30      M                2   \n",
       "10126  714337233  Attrited Customer            43      F                2   \n",
       "\n",
       "      Education_Level Marital_Status Income_Category Card_Category  \\\n",
       "0         High School        Married     $60K - $80K          Blue   \n",
       "1            Graduate         Single  Less than $40K          Blue   \n",
       "2            Graduate        Married    $80K - $120K          Blue   \n",
       "3         High School        Unknown  Less than $40K          Blue   \n",
       "4          Uneducated        Married     $60K - $80K          Blue   \n",
       "...               ...            ...             ...           ...   \n",
       "10122        Graduate         Single     $40K - $60K          Blue   \n",
       "10123         Unknown       Divorced     $40K - $60K          Blue   \n",
       "10124     High School        Married  Less than $40K          Blue   \n",
       "10125        Graduate        Unknown     $40K - $60K          Blue   \n",
       "10126        Graduate        Married  Less than $40K        Silver   \n",
       "\n",
       "       Months_on_book  Total_Relationship_Count  Months_Inactive_12_mon  \\\n",
       "0                  39                         5                       1   \n",
       "1                  44                         6                       1   \n",
       "2                  36                         4                       1   \n",
       "3                  34                         3                       4   \n",
       "4                  21                         5                       1   \n",
       "...               ...                       ...                     ...   \n",
       "10122              40                         3                       2   \n",
       "10123              25                         4                       2   \n",
       "10124              36                         5                       3   \n",
       "10125              36                         4                       3   \n",
       "10126              25                         6                       2   \n",
       "\n",
       "       Contacts_Count_12_mon  Credit_Limit  Total_Revolving_Bal  \\\n",
       "0                          3       12691.0                  777   \n",
       "1                          2        8256.0                  864   \n",
       "2                          0        3418.0                    0   \n",
       "3                          1        3313.0                 2517   \n",
       "4                          0        4716.0                    0   \n",
       "...                      ...           ...                  ...   \n",
       "10122                      3        4003.0                 1851   \n",
       "10123                      3        4277.0                 2186   \n",
       "10124                      4        5409.0                    0   \n",
       "10125                      3        5281.0                    0   \n",
       "10126                      4       10388.0                 1961   \n",
       "\n",
       "       Avg_Open_To_Buy  Total_Trans_Amt  Total_Trans_Ct  Avg_Utilization_Ratio  \n",
       "0              11914.0             1144              42                  0.061  \n",
       "1               7392.0             1291              33                  0.105  \n",
       "2               3418.0             1887              20                  0.000  \n",
       "3                796.0             1171              20                  0.760  \n",
       "4               4716.0              816              28                  0.000  \n",
       "...                ...              ...             ...                    ...  \n",
       "10122           2152.0            15476             117                  0.462  \n",
       "10123           2091.0             8764              69                  0.511  \n",
       "10124           5409.0            10291              60                  0.000  \n",
       "10125           5281.0             8395              62                  0.000  \n",
       "10126           8427.0            10294              61                  0.189  \n",
       "\n",
       "[10127 rows x 19 columns]"
      ]
     },
     "execution_count": 3,
     "metadata": {},
     "output_type": "execute_result"
    }
   ],
   "source": [
    "df=pd.read_csv('C://Users/user/DS1_C5_S1_BankChurn_Data_Concept.csv')\n",
    "df"
   ]
  },
  {
   "cell_type": "markdown",
   "id": "05e1e494",
   "metadata": {},
   "source": [
    "# Level 0 Analysis: Understanding Data"
   ]
  },
  {
   "cell_type": "markdown",
   "id": "88f829d9",
   "metadata": {},
   "source": [
    "## Reading the top 5 rows "
   ]
  },
  {
   "cell_type": "code",
   "execution_count": 3,
   "id": "f18f9a92",
   "metadata": {},
   "outputs": [
    {
     "data": {
      "text/html": [
       "<div>\n",
       "<style scoped>\n",
       "    .dataframe tbody tr th:only-of-type {\n",
       "        vertical-align: middle;\n",
       "    }\n",
       "\n",
       "    .dataframe tbody tr th {\n",
       "        vertical-align: top;\n",
       "    }\n",
       "\n",
       "    .dataframe thead th {\n",
       "        text-align: right;\n",
       "    }\n",
       "</style>\n",
       "<table border=\"1\" class=\"dataframe\">\n",
       "  <thead>\n",
       "    <tr style=\"text-align: right;\">\n",
       "      <th></th>\n",
       "      <th>CLIENTNUM</th>\n",
       "      <th>Attrition_Flag</th>\n",
       "      <th>Customer_Age</th>\n",
       "      <th>Gender</th>\n",
       "      <th>Dependent_count</th>\n",
       "      <th>Education_Level</th>\n",
       "      <th>Marital_Status</th>\n",
       "      <th>Income_Category</th>\n",
       "      <th>Card_Category</th>\n",
       "      <th>Months_on_book</th>\n",
       "      <th>Total_Relationship_Count</th>\n",
       "      <th>Months_Inactive_12_mon</th>\n",
       "      <th>Contacts_Count_12_mon</th>\n",
       "      <th>Credit_Limit</th>\n",
       "      <th>Total_Revolving_Bal</th>\n",
       "      <th>Avg_Open_To_Buy</th>\n",
       "      <th>Total_Trans_Amt</th>\n",
       "      <th>Total_Trans_Ct</th>\n",
       "      <th>Avg_Utilization_Ratio</th>\n",
       "    </tr>\n",
       "  </thead>\n",
       "  <tbody>\n",
       "    <tr>\n",
       "      <th>0</th>\n",
       "      <td>768805383</td>\n",
       "      <td>Existing Customer</td>\n",
       "      <td>45</td>\n",
       "      <td>M</td>\n",
       "      <td>3</td>\n",
       "      <td>High School</td>\n",
       "      <td>Married</td>\n",
       "      <td>$60K - $80K</td>\n",
       "      <td>Blue</td>\n",
       "      <td>39</td>\n",
       "      <td>5</td>\n",
       "      <td>1</td>\n",
       "      <td>3</td>\n",
       "      <td>12691.0</td>\n",
       "      <td>777</td>\n",
       "      <td>11914.0</td>\n",
       "      <td>1144</td>\n",
       "      <td>42</td>\n",
       "      <td>0.061</td>\n",
       "    </tr>\n",
       "    <tr>\n",
       "      <th>1</th>\n",
       "      <td>818770008</td>\n",
       "      <td>Existing Customer</td>\n",
       "      <td>49</td>\n",
       "      <td>F</td>\n",
       "      <td>5</td>\n",
       "      <td>Graduate</td>\n",
       "      <td>Single</td>\n",
       "      <td>Less than $40K</td>\n",
       "      <td>Blue</td>\n",
       "      <td>44</td>\n",
       "      <td>6</td>\n",
       "      <td>1</td>\n",
       "      <td>2</td>\n",
       "      <td>8256.0</td>\n",
       "      <td>864</td>\n",
       "      <td>7392.0</td>\n",
       "      <td>1291</td>\n",
       "      <td>33</td>\n",
       "      <td>0.105</td>\n",
       "    </tr>\n",
       "    <tr>\n",
       "      <th>2</th>\n",
       "      <td>713982108</td>\n",
       "      <td>Existing Customer</td>\n",
       "      <td>51</td>\n",
       "      <td>M</td>\n",
       "      <td>3</td>\n",
       "      <td>Graduate</td>\n",
       "      <td>Married</td>\n",
       "      <td>$80K - $120K</td>\n",
       "      <td>Blue</td>\n",
       "      <td>36</td>\n",
       "      <td>4</td>\n",
       "      <td>1</td>\n",
       "      <td>0</td>\n",
       "      <td>3418.0</td>\n",
       "      <td>0</td>\n",
       "      <td>3418.0</td>\n",
       "      <td>1887</td>\n",
       "      <td>20</td>\n",
       "      <td>0.000</td>\n",
       "    </tr>\n",
       "    <tr>\n",
       "      <th>3</th>\n",
       "      <td>769911858</td>\n",
       "      <td>Existing Customer</td>\n",
       "      <td>40</td>\n",
       "      <td>F</td>\n",
       "      <td>4</td>\n",
       "      <td>High School</td>\n",
       "      <td>Unknown</td>\n",
       "      <td>Less than $40K</td>\n",
       "      <td>Blue</td>\n",
       "      <td>34</td>\n",
       "      <td>3</td>\n",
       "      <td>4</td>\n",
       "      <td>1</td>\n",
       "      <td>3313.0</td>\n",
       "      <td>2517</td>\n",
       "      <td>796.0</td>\n",
       "      <td>1171</td>\n",
       "      <td>20</td>\n",
       "      <td>0.760</td>\n",
       "    </tr>\n",
       "    <tr>\n",
       "      <th>4</th>\n",
       "      <td>709106358</td>\n",
       "      <td>Existing Customer</td>\n",
       "      <td>40</td>\n",
       "      <td>M</td>\n",
       "      <td>3</td>\n",
       "      <td>Uneducated</td>\n",
       "      <td>Married</td>\n",
       "      <td>$60K - $80K</td>\n",
       "      <td>Blue</td>\n",
       "      <td>21</td>\n",
       "      <td>5</td>\n",
       "      <td>1</td>\n",
       "      <td>0</td>\n",
       "      <td>4716.0</td>\n",
       "      <td>0</td>\n",
       "      <td>4716.0</td>\n",
       "      <td>816</td>\n",
       "      <td>28</td>\n",
       "      <td>0.000</td>\n",
       "    </tr>\n",
       "  </tbody>\n",
       "</table>\n",
       "</div>"
      ],
      "text/plain": [
       "   CLIENTNUM     Attrition_Flag  Customer_Age Gender  Dependent_count  \\\n",
       "0  768805383  Existing Customer            45      M                3   \n",
       "1  818770008  Existing Customer            49      F                5   \n",
       "2  713982108  Existing Customer            51      M                3   \n",
       "3  769911858  Existing Customer            40      F                4   \n",
       "4  709106358  Existing Customer            40      M                3   \n",
       "\n",
       "  Education_Level Marital_Status Income_Category Card_Category  \\\n",
       "0     High School        Married     $60K - $80K          Blue   \n",
       "1        Graduate         Single  Less than $40K          Blue   \n",
       "2        Graduate        Married    $80K - $120K          Blue   \n",
       "3     High School        Unknown  Less than $40K          Blue   \n",
       "4      Uneducated        Married     $60K - $80K          Blue   \n",
       "\n",
       "   Months_on_book  Total_Relationship_Count  Months_Inactive_12_mon  \\\n",
       "0              39                         5                       1   \n",
       "1              44                         6                       1   \n",
       "2              36                         4                       1   \n",
       "3              34                         3                       4   \n",
       "4              21                         5                       1   \n",
       "\n",
       "   Contacts_Count_12_mon  Credit_Limit  Total_Revolving_Bal  Avg_Open_To_Buy  \\\n",
       "0                      3       12691.0                  777          11914.0   \n",
       "1                      2        8256.0                  864           7392.0   \n",
       "2                      0        3418.0                    0           3418.0   \n",
       "3                      1        3313.0                 2517            796.0   \n",
       "4                      0        4716.0                    0           4716.0   \n",
       "\n",
       "   Total_Trans_Amt  Total_Trans_Ct  Avg_Utilization_Ratio  \n",
       "0             1144              42                  0.061  \n",
       "1             1291              33                  0.105  \n",
       "2             1887              20                  0.000  \n",
       "3             1171              20                  0.760  \n",
       "4              816              28                  0.000  "
      ]
     },
     "execution_count": 3,
     "metadata": {},
     "output_type": "execute_result"
    }
   ],
   "source": [
    "df.head(5)"
   ]
  },
  {
   "cell_type": "markdown",
   "id": "cd2ccecb",
   "metadata": {},
   "source": [
    "## Reading the bottom 5 rows"
   ]
  },
  {
   "cell_type": "code",
   "execution_count": 4,
   "id": "3daf32ca",
   "metadata": {},
   "outputs": [
    {
     "data": {
      "text/html": [
       "<div>\n",
       "<style scoped>\n",
       "    .dataframe tbody tr th:only-of-type {\n",
       "        vertical-align: middle;\n",
       "    }\n",
       "\n",
       "    .dataframe tbody tr th {\n",
       "        vertical-align: top;\n",
       "    }\n",
       "\n",
       "    .dataframe thead th {\n",
       "        text-align: right;\n",
       "    }\n",
       "</style>\n",
       "<table border=\"1\" class=\"dataframe\">\n",
       "  <thead>\n",
       "    <tr style=\"text-align: right;\">\n",
       "      <th></th>\n",
       "      <th>CLIENTNUM</th>\n",
       "      <th>Attrition_Flag</th>\n",
       "      <th>Customer_Age</th>\n",
       "      <th>Gender</th>\n",
       "      <th>Dependent_count</th>\n",
       "      <th>Education_Level</th>\n",
       "      <th>Marital_Status</th>\n",
       "      <th>Income_Category</th>\n",
       "      <th>Card_Category</th>\n",
       "      <th>Months_on_book</th>\n",
       "      <th>Total_Relationship_Count</th>\n",
       "      <th>Months_Inactive_12_mon</th>\n",
       "      <th>Contacts_Count_12_mon</th>\n",
       "      <th>Credit_Limit</th>\n",
       "      <th>Total_Revolving_Bal</th>\n",
       "      <th>Avg_Open_To_Buy</th>\n",
       "      <th>Total_Trans_Amt</th>\n",
       "      <th>Total_Trans_Ct</th>\n",
       "      <th>Avg_Utilization_Ratio</th>\n",
       "    </tr>\n",
       "  </thead>\n",
       "  <tbody>\n",
       "    <tr>\n",
       "      <th>10122</th>\n",
       "      <td>772366833</td>\n",
       "      <td>Existing Customer</td>\n",
       "      <td>50</td>\n",
       "      <td>M</td>\n",
       "      <td>2</td>\n",
       "      <td>Graduate</td>\n",
       "      <td>Single</td>\n",
       "      <td>$40K - $60K</td>\n",
       "      <td>Blue</td>\n",
       "      <td>40</td>\n",
       "      <td>3</td>\n",
       "      <td>2</td>\n",
       "      <td>3</td>\n",
       "      <td>4003.0</td>\n",
       "      <td>1851</td>\n",
       "      <td>2152.0</td>\n",
       "      <td>15476</td>\n",
       "      <td>117</td>\n",
       "      <td>0.462</td>\n",
       "    </tr>\n",
       "    <tr>\n",
       "      <th>10123</th>\n",
       "      <td>710638233</td>\n",
       "      <td>Attrited Customer</td>\n",
       "      <td>41</td>\n",
       "      <td>M</td>\n",
       "      <td>2</td>\n",
       "      <td>Unknown</td>\n",
       "      <td>Divorced</td>\n",
       "      <td>$40K - $60K</td>\n",
       "      <td>Blue</td>\n",
       "      <td>25</td>\n",
       "      <td>4</td>\n",
       "      <td>2</td>\n",
       "      <td>3</td>\n",
       "      <td>4277.0</td>\n",
       "      <td>2186</td>\n",
       "      <td>2091.0</td>\n",
       "      <td>8764</td>\n",
       "      <td>69</td>\n",
       "      <td>0.511</td>\n",
       "    </tr>\n",
       "    <tr>\n",
       "      <th>10124</th>\n",
       "      <td>716506083</td>\n",
       "      <td>Attrited Customer</td>\n",
       "      <td>44</td>\n",
       "      <td>F</td>\n",
       "      <td>1</td>\n",
       "      <td>High School</td>\n",
       "      <td>Married</td>\n",
       "      <td>Less than $40K</td>\n",
       "      <td>Blue</td>\n",
       "      <td>36</td>\n",
       "      <td>5</td>\n",
       "      <td>3</td>\n",
       "      <td>4</td>\n",
       "      <td>5409.0</td>\n",
       "      <td>0</td>\n",
       "      <td>5409.0</td>\n",
       "      <td>10291</td>\n",
       "      <td>60</td>\n",
       "      <td>0.000</td>\n",
       "    </tr>\n",
       "    <tr>\n",
       "      <th>10125</th>\n",
       "      <td>717406983</td>\n",
       "      <td>Attrited Customer</td>\n",
       "      <td>30</td>\n",
       "      <td>M</td>\n",
       "      <td>2</td>\n",
       "      <td>Graduate</td>\n",
       "      <td>Unknown</td>\n",
       "      <td>$40K - $60K</td>\n",
       "      <td>Blue</td>\n",
       "      <td>36</td>\n",
       "      <td>4</td>\n",
       "      <td>3</td>\n",
       "      <td>3</td>\n",
       "      <td>5281.0</td>\n",
       "      <td>0</td>\n",
       "      <td>5281.0</td>\n",
       "      <td>8395</td>\n",
       "      <td>62</td>\n",
       "      <td>0.000</td>\n",
       "    </tr>\n",
       "    <tr>\n",
       "      <th>10126</th>\n",
       "      <td>714337233</td>\n",
       "      <td>Attrited Customer</td>\n",
       "      <td>43</td>\n",
       "      <td>F</td>\n",
       "      <td>2</td>\n",
       "      <td>Graduate</td>\n",
       "      <td>Married</td>\n",
       "      <td>Less than $40K</td>\n",
       "      <td>Silver</td>\n",
       "      <td>25</td>\n",
       "      <td>6</td>\n",
       "      <td>2</td>\n",
       "      <td>4</td>\n",
       "      <td>10388.0</td>\n",
       "      <td>1961</td>\n",
       "      <td>8427.0</td>\n",
       "      <td>10294</td>\n",
       "      <td>61</td>\n",
       "      <td>0.189</td>\n",
       "    </tr>\n",
       "  </tbody>\n",
       "</table>\n",
       "</div>"
      ],
      "text/plain": [
       "       CLIENTNUM     Attrition_Flag  Customer_Age Gender  Dependent_count  \\\n",
       "10122  772366833  Existing Customer            50      M                2   \n",
       "10123  710638233  Attrited Customer            41      M                2   \n",
       "10124  716506083  Attrited Customer            44      F                1   \n",
       "10125  717406983  Attrited Customer            30      M                2   \n",
       "10126  714337233  Attrited Customer            43      F                2   \n",
       "\n",
       "      Education_Level Marital_Status Income_Category Card_Category  \\\n",
       "10122        Graduate         Single     $40K - $60K          Blue   \n",
       "10123         Unknown       Divorced     $40K - $60K          Blue   \n",
       "10124     High School        Married  Less than $40K          Blue   \n",
       "10125        Graduate        Unknown     $40K - $60K          Blue   \n",
       "10126        Graduate        Married  Less than $40K        Silver   \n",
       "\n",
       "       Months_on_book  Total_Relationship_Count  Months_Inactive_12_mon  \\\n",
       "10122              40                         3                       2   \n",
       "10123              25                         4                       2   \n",
       "10124              36                         5                       3   \n",
       "10125              36                         4                       3   \n",
       "10126              25                         6                       2   \n",
       "\n",
       "       Contacts_Count_12_mon  Credit_Limit  Total_Revolving_Bal  \\\n",
       "10122                      3        4003.0                 1851   \n",
       "10123                      3        4277.0                 2186   \n",
       "10124                      4        5409.0                    0   \n",
       "10125                      3        5281.0                    0   \n",
       "10126                      4       10388.0                 1961   \n",
       "\n",
       "       Avg_Open_To_Buy  Total_Trans_Amt  Total_Trans_Ct  Avg_Utilization_Ratio  \n",
       "10122           2152.0            15476             117                  0.462  \n",
       "10123           2091.0             8764              69                  0.511  \n",
       "10124           5409.0            10291              60                  0.000  \n",
       "10125           5281.0             8395              62                  0.000  \n",
       "10126           8427.0            10294              61                  0.189  "
      ]
     },
     "execution_count": 4,
     "metadata": {},
     "output_type": "execute_result"
    }
   ],
   "source": [
    "df.tail(5)"
   ]
  },
  {
   "cell_type": "markdown",
   "id": "553f9e65",
   "metadata": {},
   "source": [
    "##  Number of rows and columns "
   ]
  },
  {
   "cell_type": "code",
   "execution_count": 5,
   "id": "4c14b84d",
   "metadata": {},
   "outputs": [
    {
     "data": {
      "text/plain": [
       "(10127, 19)"
      ]
     },
     "execution_count": 5,
     "metadata": {},
     "output_type": "execute_result"
    }
   ],
   "source": [
    "df.shape"
   ]
  },
  {
   "cell_type": "markdown",
   "id": "5f4e7189",
   "metadata": {},
   "source": [
    "## Display the names of all the columns"
   ]
  },
  {
   "cell_type": "code",
   "execution_count": 7,
   "id": "04efe970",
   "metadata": {},
   "outputs": [
    {
     "data": {
      "text/plain": [
       "Index(['CLIENTNUM', 'Attrition_Flag', 'Customer_Age', 'Gender',\n",
       "       'Dependent_count', 'Education_Level', 'Marital_Status',\n",
       "       'Income_Category', 'Card_Category', 'Months_on_book',\n",
       "       'Total_Relationship_Count', 'Months_Inactive_12_mon',\n",
       "       'Contacts_Count_12_mon', 'Credit_Limit', 'Total_Revolving_Bal',\n",
       "       'Avg_Open_To_Buy', 'Total_Trans_Amt', 'Total_Trans_Ct',\n",
       "       'Avg_Utilization_Ratio'],\n",
       "      dtype='object')"
      ]
     },
     "execution_count": 7,
     "metadata": {},
     "output_type": "execute_result"
    }
   ],
   "source": [
    "df.columns"
   ]
  },
  {
   "cell_type": "markdown",
   "id": "f1326faa",
   "metadata": {},
   "source": [
    "## Displaying the dataset information"
   ]
  },
  {
   "cell_type": "code",
   "execution_count": 8,
   "id": "f7b1b370",
   "metadata": {},
   "outputs": [
    {
     "name": "stdout",
     "output_type": "stream",
     "text": [
      "<class 'pandas.core.frame.DataFrame'>\n",
      "RangeIndex: 10127 entries, 0 to 10126\n",
      "Data columns (total 19 columns):\n",
      " #   Column                    Non-Null Count  Dtype  \n",
      "---  ------                    --------------  -----  \n",
      " 0   CLIENTNUM                 10127 non-null  int64  \n",
      " 1   Attrition_Flag            10127 non-null  object \n",
      " 2   Customer_Age              10127 non-null  int64  \n",
      " 3   Gender                    10034 non-null  object \n",
      " 4   Dependent_count           10127 non-null  int64  \n",
      " 5   Education_Level           10127 non-null  object \n",
      " 6   Marital_Status            10127 non-null  object \n",
      " 7   Income_Category           10127 non-null  object \n",
      " 8   Card_Category             9995 non-null   object \n",
      " 9   Months_on_book            10127 non-null  int64  \n",
      " 10  Total_Relationship_Count  10127 non-null  int64  \n",
      " 11  Months_Inactive_12_mon    10127 non-null  int64  \n",
      " 12  Contacts_Count_12_mon     10127 non-null  int64  \n",
      " 13  Credit_Limit              10067 non-null  float64\n",
      " 14  Total_Revolving_Bal       10127 non-null  int64  \n",
      " 15  Avg_Open_To_Buy           10127 non-null  float64\n",
      " 16  Total_Trans_Amt           10127 non-null  int64  \n",
      " 17  Total_Trans_Ct            10127 non-null  int64  \n",
      " 18  Avg_Utilization_Ratio     10127 non-null  float64\n",
      "dtypes: float64(3), int64(10), object(6)\n",
      "memory usage: 1.5+ MB\n"
     ]
    }
   ],
   "source": [
    "df.info()"
   ]
  },
  {
   "cell_type": "markdown",
   "id": "bb4c0e53",
   "metadata": {},
   "source": [
    "## Checking if there are null values in any columns"
   ]
  },
  {
   "cell_type": "code",
   "execution_count": 9,
   "id": "79812400",
   "metadata": {},
   "outputs": [
    {
     "data": {
      "text/plain": [
       "CLIENTNUM                     0\n",
       "Attrition_Flag                0\n",
       "Customer_Age                  0\n",
       "Gender                       93\n",
       "Dependent_count               0\n",
       "Education_Level               0\n",
       "Marital_Status                0\n",
       "Income_Category               0\n",
       "Card_Category               132\n",
       "Months_on_book                0\n",
       "Total_Relationship_Count      0\n",
       "Months_Inactive_12_mon        0\n",
       "Contacts_Count_12_mon         0\n",
       "Credit_Limit                 60\n",
       "Total_Revolving_Bal           0\n",
       "Avg_Open_To_Buy               0\n",
       "Total_Trans_Amt               0\n",
       "Total_Trans_Ct                0\n",
       "Avg_Utilization_Ratio         0\n",
       "dtype: int64"
      ]
     },
     "execution_count": 9,
     "metadata": {},
     "output_type": "execute_result"
    }
   ],
   "source": [
    "df.isnull().sum()"
   ]
  },
  {
   "cell_type": "markdown",
   "id": "89af25b8",
   "metadata": {},
   "source": [
    "LEVEL 1 Analysis \n",
    "-------------------------\n",
    "Identify if the data type in each column is categorical or numerical?\n",
    "1. Separate out the categorical columns from the numerical types\n",
    "\n",
    "### These are the kind of analyses that can be performed on categorical data\n",
    "1. Check if it is Nominal or Ordinal \n",
    "2. Check how many categories are present\n",
    "3. Check the Mode \n",
    "4. Check for Missing values \n",
    "5. Think about how the missing values could be treated\n",
    "6. Think about the kind of graph/chart that can be plotted using this data\n",
    "\n",
    "Note: We are analyzing only one column at a time (Univariate Analysis)."
   ]
  },
  {
   "cell_type": "markdown",
   "id": "b3cc7630",
   "metadata": {},
   "source": [
    "## Separating Categorical and Numerical Variables"
   ]
  },
  {
   "cell_type": "code",
   "execution_count": 53,
   "id": "ef208bc6",
   "metadata": {},
   "outputs": [
    {
     "name": "stdout",
     "output_type": "stream",
     "text": [
      "Categorical               Continous\n",
      "------------------------  ---------------------\n",
      "Attrition_Flag            CLIENTNUM\n",
      "Gender                    Customer_Age\n",
      "Dependent_count           Credit_Limit\n",
      "Education_Level           Total_Revolving_Bal\n",
      "Marital_Status            Avg_Open_To_Buy\n",
      "Income_Category           Total_Trans_Amt\n",
      "Card_Category             Total_Trans_Ct\n",
      "Months_on_book            Avg_Utilization_Ratio\n",
      "Total_Relationship_Count\n",
      "Months_Inactive_12_mon\n",
      "Contacts_Count_12_mon\n"
     ]
    }
   ],
   "source": [
    "def seperate_data_types(df):\n",
    "    Categorical=[]\n",
    "    Continous=[]\n",
    "    \n",
    "    for column in df.columns:   #looping on the number of columns\n",
    "        if df[column].nunique()<100: #nunique returns the unique values in the column.100 is the hyper parameter and can be changed            \n",
    "            Categorical.append(column)\n",
    "        else:\n",
    "            Continous.append(column)\n",
    "    return Categorical,Continous\n",
    "\n",
    "Categorical,Continous=seperate_data_types(df)   #calling the function\n",
    "\n",
    "#Tabulate is a package used to display list,dictionary or any other data types in tabular format\n",
    "from tabulate import tabulate\n",
    "table=[Categorical,Continous]\n",
    "print(tabulate ({\"Categorical\":Categorical,\"Continous\":Continous},headers=['Categorical','Continous']))"
   ]
  },
  {
   "cell_type": "markdown",
   "id": "8ee94c9f",
   "metadata": {},
   "source": [
    "\n",
    "# $$\\;\\;\\;\\; Univariate \\ Analysis \\ of \\ Categorical \\ Variables$$"
   ]
  },
  {
   "cell_type": "markdown",
   "id": "30e23e89",
   "metadata": {},
   "source": [
    "## Level 1 Analysis (Univariate Analysis)"
   ]
  },
  {
   "cell_type": "markdown",
   "id": "99404ebb",
   "metadata": {},
   "source": [
    "### User-defined function for level 1 analysis of categorical columns\n",
    "This function will check for the following \\\n",
    "Unique values \\\n",
    "Mode \\\n",
    "Total count of missing values "
   ]
  },
  {
   "cell_type": "code",
   "execution_count": 18,
   "id": "0e81115a",
   "metadata": {},
   "outputs": [],
   "source": [
    "def info_of_cat(col):\n",
    "    print(f\" unique values in {col} are:{df[col].unique()}\")\n",
    "    print(f\" Mode of {col} is:{df[col].mode()[0]}\")\n",
    "    print(f\" Total missing values in {col} is:{df[col].isnull().sum()}\")"
   ]
  },
  {
   "cell_type": "code",
   "execution_count": 20,
   "id": "1bb0679c",
   "metadata": {},
   "outputs": [
    {
     "name": "stdout",
     "output_type": "stream",
     "text": [
      " unique values in Attrition_Flag are:['Existing Customer' 'Attrited Customer']\n",
      " Mode of Attrition_Flag is:Existing Customer\n",
      " Total missing values in Attrition_Flag is:0\n"
     ]
    }
   ],
   "source": [
    "info_of_cat('Attrition_Flag')"
   ]
  },
  {
   "cell_type": "markdown",
   "id": "ff2aa15a",
   "metadata": {},
   "source": [
    "## 1. Analysis of Attrition Flag: If the account is closed, then Attired Customer else Existing Customer\n"
   ]
  },
  {
   "cell_type": "markdown",
   "id": "e18946e6",
   "metadata": {},
   "source": [
    "###### Attrition Flag is a nominal datatype."
   ]
  },
  {
   "cell_type": "markdown",
   "id": "0d0e4ec5",
   "metadata": {},
   "source": [
    "### Visual presentation of Attrition Flag attribute"
   ]
  },
  {
   "cell_type": "code",
   "execution_count": 28,
   "id": "29d531b5",
   "metadata": {},
   "outputs": [
    {
     "data": {
      "image/png": "[encoded data removed]",
      "text/plain": [
       "<Figure size 1500x700 with 2 Axes>"
      ]
     },
     "metadata": {},
     "output_type": "display_data"
    }
   ],
   "source": [
    "fig, ax=plt.subplots(1,2 ,figsize=(15,7))\n",
    "ax[0].set_title('Count of Attrition flag')\n",
    "percentage=df['Attrition_Flag'].value_counts()         #It return count of values in series\n",
    "label=list(df['Attrition_Flag'].value_counts())\n",
    "sns.countplot(x=df['Attrition_Flag'],ax=ax[0])\n",
    "plt.pie(percentage,labels=label,autopct='%0.2f%%')\n",
    "plt.show()"
   ]
  },
  {
   "cell_type": "markdown",
   "id": "4652b82c",
   "metadata": {},
   "source": [
    "## ***Interpretation:  The dataset indicates that 16% of the customers left the bank while 84% of the customers are still with it."
   ]
  },
  {
   "cell_type": "markdown",
   "id": "a37c204a",
   "metadata": {},
   "source": [
    "## 2. Analysis of  Gender column: Gender of a person (Male or Female)\n"
   ]
  },
  {
   "cell_type": "code",
   "execution_count": 29,
   "id": "ab810ced",
   "metadata": {},
   "outputs": [
    {
     "name": "stdout",
     "output_type": "stream",
     "text": [
      " unique values in Gender are:['M' 'F' nan]\n",
      " Mode of Gender is:F\n",
      " Total missing values in Gender is:93\n"
     ]
    }
   ],
   "source": [
    "info_of_cat('Gender')"
   ]
  },
  {
   "cell_type": "markdown",
   "id": "8a87b235",
   "metadata": {},
   "source": [
    "###### Gender is a nominal datatype (Categorical)."
   ]
  },
  {
   "cell_type": "markdown",
   "id": "93a82faa",
   "metadata": {},
   "source": [
    "###    Optional::Way to fill: Mode of the Gender Column\n",
    "\n",
    "Note: Mode is not the perfect way to fill the missing value in this case. One might need to handle such a situation with caution. This is for demonstration purposes only. "
   ]
  },
  {
   "cell_type": "code",
   "execution_count": 30,
   "id": "42e7913c",
   "metadata": {},
   "outputs": [],
   "source": [
    "df['Gender'].fillna('F',inplace=True)"
   ]
  },
  {
   "cell_type": "code",
   "execution_count": 31,
   "id": "f3c67fb7",
   "metadata": {},
   "outputs": [
    {
     "name": "stdout",
     "output_type": "stream",
     "text": [
      " unique values in Gender are:['M' 'F']\n",
      " Mode of Gender is:F\n",
      " Total missing values in Gender is:0\n"
     ]
    }
   ],
   "source": [
    "info_of_cat('Gender')"
   ]
  },
  {
   "cell_type": "markdown",
   "id": "cf1e010d",
   "metadata": {},
   "source": [
    "### Visual presentation of Gender attribute"
   ]
  },
  {
   "cell_type": "code",
   "execution_count": 7,
   "id": "60d338a8",
   "metadata": {},
   "outputs": [
    {
     "data": {
      "image/png": "[encoded data removed]",
      "text/plain": [
       "<Figure size 1500x700 with 2 Axes>"
      ]
     },
     "metadata": {},
     "output_type": "display_data"
    }
   ],
   "source": [
    "fig, ax=plt.subplots(1,2 ,figsize=(15,7))\n",
    "ax[0].set_title('Count of Gender')\n",
    "percentage=df['Gender'].value_counts()   #It return count of values in series\n",
    "percentage\n",
    "# data=df['Gender'].value_counts()\n",
    "label=list(df['Gender'].value_counts().index)\n",
    "# label=data.keys()\n",
    "sns.countplot(x=df['Gender'],ax=ax[0])\n",
    "plt.pie(percentage,labels=label,autopct='%0.2f%%',explode=[0.04,0.0])  #Explode create gaps between pies\n",
    "plt.show()"
   ]
  },
  {
   "cell_type": "markdown",
   "id": "76c43e4c",
   "metadata": {},
   "source": [
    "## ***Interpretation: Female customers are more in number, contributing to 53%."
   ]
  },
  {
   "cell_type": "markdown",
   "id": "3547152c",
   "metadata": {},
   "source": [
    "## 3. Analysis of  Dependent Count: Number of dependents on each customer \n"
   ]
  },
  {
   "cell_type": "code",
   "execution_count": 38,
   "id": "4a56dac0",
   "metadata": {},
   "outputs": [
    {
     "name": "stdout",
     "output_type": "stream",
     "text": [
      " unique values in Dependent_count are:[  3   5   4   2   0   1   9  29 103  22  25  78  90  35  60  42 119 104\n",
      "  88  48  34 143 100  59 130  95   7  82  69  92 110  17  10  27  19 109\n",
      " 142 116 113 125  80  63  24  97 102  52  87  11 117  13  67  89  61  72\n",
      " 120  76]\n",
      " Mode of Dependent_count is:3\n",
      " Total missing values in Dependent_count is:0\n"
     ]
    }
   ],
   "source": [
    "info_of_cat('Dependent_count')"
   ]
  },
  {
   "cell_type": "markdown",
   "id": "a090842d",
   "metadata": {},
   "source": [
    "###### Dependent_count is an ordinal datatype (Categorical) as it has a hierarchy in it."
   ]
  },
  {
   "cell_type": "markdown",
   "id": "d999ede3",
   "metadata": {},
   "source": [
    "## ***Interpretation: Some people are having many dependents on them. This could be a result of human error in data.\n",
    "\n",
    "Note: This might not always be the correct approach unless verified by a domain expert! "
   ]
  },
  {
   "cell_type": "markdown",
   "id": "a9f7dd61",
   "metadata": {},
   "source": [
    "### Visual presentation of Dependent_count attribute"
   ]
  },
  {
   "cell_type": "code",
   "execution_count": 50,
   "id": "7d241a50",
   "metadata": {},
   "outputs": [
    {
     "data": {
      "image/png": "[encoded data removed]",
      "text/plain": [
       "<Figure size 3000x1000 with 1 Axes>"
      ]
     },
     "metadata": {},
     "output_type": "display_data"
    }
   ],
   "source": [
    "fig, ax=plt.subplots(figsize=(15,7))\n",
    "ax=sns.countplot(x=df['Dependent_count'])\n",
    "for bars in ax.patches:    #ax.patches return rectangular object from matplotlib\n",
    "    per= f\"{round(bars.get_height()/len(df),2)}%\"\n",
    "    x=bar.get_x() + bar.get_width()/2     #get_x() return left cordinate of rectangle and get_width returns width of rectangle\n",
    "    y=bar.get_height()                  #get_height():return height of the rectangle\n",
    "    ax.annotate(per,(x,y),va='bottom',ha='center')\n",
    "    fig.set_figheight(10)\n",
    "    fig.set_figwidth(30)\n",
    "\n",
    "plt.show()"
   ]
  },
  {
   "cell_type": "markdown",
   "id": "809729cd",
   "metadata": {},
   "source": [
    "\n",
    "## ***Interpretation: Very few people are having more than 5 dependents. However, there are some cases where the dependent count is greater than 100, which is abnormal. Hence, data clearing might be  required. "
   ]
  },
  {
   "cell_type": "markdown",
   "id": "9a85fce3",
   "metadata": {},
   "source": [
    "## Outliers Analysis and Treatment:\n",
    "The customers who have a dependent count greater than the 5 are replaced with the mean of the population."
   ]
  },
  {
   "cell_type": "code",
   "execution_count": 42,
   "id": "c414edcf",
   "metadata": {
    "scrolled": false
   },
   "outputs": [
    {
     "name": "stdout",
     "output_type": "stream",
     "text": [
      "2\n"
     ]
    },
    {
     "data": {
      "text/plain": [
       "Int64Index([   75,   214,   332,   898,  1041,  1263,  1616,  1768,  1992,\n",
       "             2024,  2085,  2261,  2342,  2494,  2586,  2686,  2790,  2855,\n",
       "             3015,  3044,  3143,  3321,  3681,  3696,  3783,  3997,  4090,\n",
       "             4141,  4348,  4388,  4629,  4948,  5115,  5241,  5269,  5481,\n",
       "             5960,  6230,  6432,  6445,  6475,  6610,  6669,  6680,  7338,\n",
       "             7402,  7508,  7739,  7996,  8077,  8142,  8204,  8232,  8238,\n",
       "             8244,  8404,  9046,  9325,  9614,  9748, 10030, 10092, 10111],\n",
       "           dtype='int64')"
      ]
     },
     "execution_count": 42,
     "metadata": {},
     "output_type": "execute_result"
    }
   ],
   "source": [
    "mean=int(df.Dependent_count.mean())\n",
    "print(mean)\n",
    "x=df[df['Dependent_count']>5].index\n",
    "x"
   ]
  },
  {
   "cell_type": "code",
   "execution_count": 44,
   "id": "642f672c",
   "metadata": {},
   "outputs": [],
   "source": [
    "for index in x:\n",
    "    df.loc[index,'Dependent_count']=mean"
   ]
  },
  {
   "cell_type": "code",
   "execution_count": 45,
   "id": "d7d66842",
   "metadata": {},
   "outputs": [
    {
     "name": "stdout",
     "output_type": "stream",
     "text": [
      " unique values in Dependent_count are:[3 5 4 2 0 1]\n",
      " Mode of Dependent_count is:3\n",
      " Total missing values in Dependent_count is:0\n"
     ]
    }
   ],
   "source": [
    "info_of_cat('Dependent_count')"
   ]
  },
  {
   "cell_type": "code",
   "execution_count": 47,
   "id": "8432d580",
   "metadata": {},
   "outputs": [
    {
     "data": {
      "image/png": "[encoded data removed]",
      "text/plain": [
       "<Figure size 1000x700 with 1 Axes>"
      ]
     },
     "metadata": {},
     "output_type": "display_data"
    }
   ],
   "source": [
    "fig, ax = plt.subplots(figsize= (10, 7))\n",
    "ax = sns.countplot(x = df[\"Dependent_count\"])\n",
    "for bar in ax.patches:                                              # ax.patches returns the rectange object from matplotlib\n",
    "    percentage = f\"{round(bar.get_height() /len(df), 2)}%\"          # first it calculate the bar height and then dividing by the number of rows in data(to calculate percentage) \n",
    "                                                                    # and multiply with 100 to get the percentage and rounding of by 2 numbers.  \n",
    "    x = bar.get_x() + bar.get_width() /2                            # get_x: returns the left corrdinate of the rectange, get_width: returns width of rectagle\n",
    "    y = bar.get_height()                                            # get_height: returns height of rectange\n",
    "    ax.annotate(percentage, (x, y), va = \"bottom\", ha =\"center\" )   # va bottom: means percentage would be above the bar head. \n",
    "                                                                    # annotate: used to annotate over objects, here objects are the bars\n",
    "plt.show()"
   ]
  },
  {
   "cell_type": "markdown",
   "id": "f418dae9",
   "metadata": {},
   "source": [
    "## ***Interpretation: Card holders usually have 2 to 3 dependents on them, which adds up to 53% of the total population."
   ]
  },
  {
   "cell_type": "markdown",
   "id": "437c3874",
   "metadata": {},
   "source": [
    "## 4. Analysis of  Education Level: Education level of a card holder \n"
   ]
  },
  {
   "cell_type": "code",
   "execution_count": 51,
   "id": "fec57670",
   "metadata": {},
   "outputs": [
    {
     "name": "stdout",
     "output_type": "stream",
     "text": [
      " unique values in Education_Level are:['High School' 'Graduate' 'Uneducated' 'Unknown' 'College' 'Post-Graduate'\n",
      " 'Doctorate']\n",
      " Mode of Education_Level is:Graduate\n",
      " Total missing values in Education_Level is:0\n"
     ]
    }
   ],
   "source": [
    "info_of_cat('Education_Level')"
   ]
  },
  {
   "cell_type": "code",
   "execution_count": 8,
   "id": "95b5425f",
   "metadata": {},
   "outputs": [
    {
     "data": {
      "image/png": "[encoded data removed]",
      "text/plain": [
       "<Figure size 1500x700 with 2 Axes>"
      ]
     },
     "metadata": {},
     "output_type": "display_data"
    }
   ],
   "source": [
    "fig,ax=plt.subplots(1,2,figsize=(15,7))\n",
    "ax[0].set_title('Count of education level')\n",
    "data=df['Education_Level'].value_counts()\n",
    "lbl=data.keys()\n",
    "sns.countplot(x=df['Education_Level'],ax=ax[0])\n",
    "plt.pie(data,labels=lbl,autopct='%0.2f%%')\n",
    "plt.show()"
   ]
  },
  {
   "cell_type": "code",
   "execution_count": 11,
   "id": "42f9c591",
   "metadata": {},
   "outputs": [
    {
     "data": {
      "image/png": "[encoded data removed]",
      "text/plain": [
       "<Figure size 1500x700 with 1 Axes>"
      ]
     },
     "metadata": {},
     "output_type": "display_data"
    }
   ],
   "source": [
    "fig,ax=plt.subplots(figsize=(15,7))\n",
    "ax=sns.countplot(x=df['Education_Level'])\n",
    "for bars in ax.patches:\n",
    "    per=f\"{round(bars.get_height()/len(df),2)}%\"\n",
    "    x=bars.get_x()+bars.get_height()/2\n",
    "    y=bars.get_height()\n",
    "    ax.annotate(per,(x,y),va='bottom',ha='center')\n",
    "    fig.set_figheight=30\n",
    "    fig.set_figwidth=10\n",
    "plt.show()"
   ]
  },
  {
   "cell_type": "markdown",
   "id": "3229cdd2",
   "metadata": {},
   "source": [
    "###### Education_Level is an ordinal datatype (Categorical) as it is having a hierarchy in it."
   ]
  },
  {
   "cell_type": "markdown",
   "id": "4a923348",
   "metadata": {},
   "source": [
    "### Visual presentation of Education_level attribute"
   ]
  },
  {
   "cell_type": "markdown",
   "id": "d8a39193",
   "metadata": {},
   "source": [
    "## ***Interpretation: Most people are graduates or have completed high school, which adds up to 51% of the total population."
   ]
  },
  {
   "cell_type": "markdown",
   "id": "80abb4c2",
   "metadata": {},
   "source": [
    "## 5. Analysis of  Marital Status: Marital status of a card holder\n"
   ]
  },
  {
   "cell_type": "markdown",
   "id": "0a57f10c",
   "metadata": {},
   "source": [
    "###### Marital_Status is a nominal datatype (Categorical)."
   ]
  },
  {
   "cell_type": "markdown",
   "id": "2e3e0e7f",
   "metadata": {},
   "source": [
    "### Visual presentation of Marital_status attribute"
   ]
  },
  {
   "cell_type": "markdown",
   "id": "64194395",
   "metadata": {},
   "source": [
    "## ***Interpretation:  46% of the people are Married and 39% are Single. "
   ]
  },
  {
   "cell_type": "markdown",
   "id": "2f0e9171",
   "metadata": {},
   "source": [
    "## 6. Analysis of  Income Category: Income category of a card holder\n",
    "\n",
    "\n"
   ]
  },
  {
   "cell_type": "markdown",
   "id": "5e6fe487",
   "metadata": {},
   "source": [
    "###### Income_Category is an ordinal datatype (Categorical) as it is having a hierarchy in it."
   ]
  },
  {
   "cell_type": "markdown",
   "id": "d6722ada",
   "metadata": {},
   "source": [
    "### Visual presentation of income category attribute"
   ]
  },
  {
   "cell_type": "markdown",
   "id": "6669ee5c",
   "metadata": {},
   "source": [
    "## ***Interpretation: Majority of the population is earning less than $40k."
   ]
  },
  {
   "cell_type": "markdown",
   "id": "13b8fee0",
   "metadata": {},
   "source": [
    "## 7. Analysis of  Card Category: Type of card\n"
   ]
  },
  {
   "cell_type": "markdown",
   "id": "a9742117",
   "metadata": {},
   "source": [
    "###### Card_Category is a nominal datatype (Categorical)."
   ]
  },
  {
   "cell_type": "markdown",
   "id": "aa4cb9c2",
   "metadata": {},
   "source": [
    "##    Missing value treatment:  Mode of the Card Type\n",
    "\n",
    "Note: Mode is not a perfect way to  way to fill the missing value in this case. One might need to handle such a situation with caution by consulting the domain expert. This is for demonstration purposes only. "
   ]
  },
  {
   "cell_type": "markdown",
   "id": "0c29bcab",
   "metadata": {},
   "source": [
    "### Visual presentation of card category attribute"
   ]
  },
  {
   "cell_type": "markdown",
   "id": "5a0175d4",
   "metadata": {},
   "source": [
    "## ***Interpretation: Majority of the population is using the Blue card followed by Silver. The Platinum card is sold the least. "
   ]
  },
  {
   "cell_type": "markdown",
   "id": "84dbf489",
   "metadata": {},
   "source": [
    "## 8. User defined function which returns percentage using bar graphs"
   ]
  },
  {
   "cell_type": "markdown",
   "id": "2c266462",
   "metadata": {},
   "source": [
    "## 9. Analysis of Total Relationship Count: Years of relationship with bank\n"
   ]
  },
  {
   "cell_type": "markdown",
   "id": "1b8b7c97",
   "metadata": {},
   "source": [
    "###### Total_Relationship_Count is a ordinal datatype (Categorical) as it is having hierarchy in it."
   ]
  },
  {
   "cell_type": "markdown",
   "id": "b1563950",
   "metadata": {},
   "source": [
    "### Visual presentation of Relationship count attribute"
   ]
  },
  {
   "cell_type": "markdown",
   "id": "269ee02d",
   "metadata": {},
   "source": [
    "## ***Interpretation: Usually people have three years of relationship with the bank. Then, there is a decline of 3%. Later, there is  very little variation. Approximately 20% of the people tend to leave in their first two years."
   ]
  },
  {
   "cell_type": "markdown",
   "id": "60e03dac",
   "metadata": {},
   "source": [
    "## 10. Analysis of  Months of Inactivity: Months elapsed since the last activity using a credit card. \n"
   ]
  },
  {
   "cell_type": "markdown",
   "id": "7559217c",
   "metadata": {},
   "source": [
    "###### Total_Relationship_Count is an ordinal datatype (Categorical) as it is having hierarchy in it."
   ]
  },
  {
   "cell_type": "markdown",
   "id": "8dad762c",
   "metadata": {},
   "source": [
    "### Visual presentation of months of inactivity"
   ]
  },
  {
   "cell_type": "markdown",
   "id": "db7aa16d",
   "metadata": {},
   "source": [
    "## ***Interpretation: Majority of the customers are inactive for 3 months."
   ]
  },
  {
   "cell_type": "markdown",
   "id": "875a68b0",
   "metadata": {},
   "source": [
    "## Here you will find more questions about the customers who have left the bank by relating the \"attrition flag\" column with each and every categorical column mentioned above."
   ]
  },
  {
   "cell_type": "markdown",
   "id": "6cc43ea6",
   "metadata": {},
   "source": [
    "1. Genderwise count of customers who are with the bank and those who have left.\n",
    "2. Is there a connection between the education level and the customers who have left the bank?\n",
    "3. Marital Status analysis of those customers who have left the bank\n",
    "4. Income category analysis of the customers who have left the bank\n",
    "5. Card category analysis of the customers who have left the bank\n",
    "6. Is there any relation between months of inactivity and churn?\n",
    "7. Is there any relation between churn and relationship count?\n",
    "8. Is there any relation between churn and contacts count?\n",
    "9. Is there a relation between the attrition and the age of customers who have a lower utilization ratio?\n",
    "10. Analysis of marital status and utilization ratio of the customers who are leaving the bank versus those who are still with the bank.\n",
    "11. Is there a relation between the credit limit offered to the customers (having a lower utilization ratio) compared to those who are having a higher utilization ratio?\n",
    "\n",
    "Repeat the same analysis with the customers who are still with the bank.\n",
    "\n",
    "1. Is there a connection between the education level and the existing customers?\n",
    "2. Marital Status analysis of those customers who are with the bank\n",
    "3. Income category analysis of customers who are with the bank\n",
    "4. Card category analysis of the customers who are still with the bank\n",
    "5. Is there any relation between months of inactivity and existing customers?\n",
    "6. Is there any relation between existing customers and relationship count?\n",
    "7. Is there any relation between existing customers and contacts count?"
   ]
  },
  {
   "cell_type": "markdown",
   "id": "89e7d993",
   "metadata": {},
   "source": [
    "# $$\\;\\;\\;\\;\\;\\;Univariate \\ Analysis \\ of \\ Numerical \\ Variables$$"
   ]
  },
  {
   "cell_type": "markdown",
   "id": "6e224b9e",
   "metadata": {},
   "source": [
    "LEVEL 1 Analysis of Numerical Columns\n",
    "----------------------------------------------------------\n",
    "Check if the data is discrete or continuous. \\\n",
    "Measure the central tendency (mean, median, mode) \\\n",
    "Measure the dispersion values \\\n",
    "Check for missing values \\\n",
    "Checking for skewness\\\n",
    "Check for outliers \\\n",
    "Think about how the missing values could be treated. \\\n",
    "Think about the kind of graph/chart that can be plotted using this data.\n"
   ]
  },
  {
   "cell_type": "markdown",
   "id": "0113da74",
   "metadata": {},
   "source": [
    "## User defined function for calculating mean, median, mode,  standard deviation, and count of all null values "
   ]
  },
  {
   "cell_type": "code",
   "execution_count": 52,
   "id": "4ed61963",
   "metadata": {},
   "outputs": [],
   "source": [
    "def info_of_numerical(df):\n",
    "    print(f\" Mean of the {col} is:{df[col].mean()}\")\n",
    "    print(f\" Median of {col} is:{df[col].median()}\")\n",
    "    print(f\" Mode of {col} is:{df[col].mode()}\")\n",
    "    print(f\" Standard deviation of {col} is:{df[col].std()}\")\n",
    "\n",
    "    print(f\" Total missing values in {col} is:{df[col].isnull().sum()}\")"
   ]
  },
  {
   "cell_type": "markdown",
   "id": "716a60fe",
   "metadata": {},
   "source": [
    "## 11. Analysis of  the Customer Age: Age of the customer\n"
   ]
  },
  {
   "cell_type": "markdown",
   "id": "d55b7d30",
   "metadata": {},
   "source": [
    "###### Customer_Age is a continuous data  (Numerical)."
   ]
  },
  {
   "cell_type": "code",
   "execution_count": null,
   "id": "1eccdcd6",
   "metadata": {},
   "outputs": [],
   "source": [
    "info_of_numerical('Customer_Age')"
   ]
  },
  {
   "cell_type": "markdown",
   "id": "bae7af70",
   "metadata": {},
   "source": [
    "In this case, the customer age follows the normal distribution. There are few customers with ages over 77. The analytics team decides to replace the ages greater than 75 with the average age of other customers. \n"
   ]
  },
  {
   "cell_type": "markdown",
   "id": "f918fdbe",
   "metadata": {},
   "source": [
    "## Outliers Analysis and Treatment:\n",
    "Customers who are above 75 years of age are outliers. To treat the outliers, their age is replaced by the mean. This is not the only solution to treat the outliers. Machine learning can help in this scenario."
   ]
  },
  {
   "cell_type": "markdown",
   "id": "75083a68",
   "metadata": {},
   "source": [
    "## ***Interpretation: Most likely, customer age follows normal distribution. Most of the bank customers are in between 40 and 50 years of age.\n"
   ]
  },
  {
   "cell_type": "markdown",
   "id": "e8d0147e",
   "metadata": {},
   "source": [
    "## 12. Analysis of  Total_Revolving_Bal: Balance that is carried over month to month\n"
   ]
  },
  {
   "cell_type": "markdown",
   "id": "b531edfd",
   "metadata": {},
   "source": [
    "###### Total_Revolving_Bal is a continuous datatype (Numerical)."
   ]
  },
  {
   "cell_type": "markdown",
   "id": "59409265",
   "metadata": {},
   "source": [
    "## ***Interpretation: There is a spike at the 0 Revolving Balance, which indicates the majority of people tend to have 0 Revolving Balance. Around 25% of the customers do not have a revolving balance, i.e. they settle the credit card bill within a month. Around 75% of customers do not pay the credit card balance on time. These are the profitable customers to the bank (they pay interest on the revolving balance)."
   ]
  },
  {
   "cell_type": "markdown",
   "id": "4d5f74fe",
   "metadata": {},
   "source": [
    "## 13. Analysis of  Avg_Open_To_Buy: \n",
    "### Difference between the credit limit assigned to a cardholder and the present balance on the account at that time.\n",
    "\n",
    "```Description: Monthly credit limit is $12,000.  If the customer spends $5,000 in a month, then the remaining balance is $7,000 which is called \"Average Open to Buy\".```\n",
    " \n",
    " "
   ]
  },
  {
   "cell_type": "markdown",
   "id": "7d3c2faf",
   "metadata": {},
   "source": [
    "###### Avg_Open_To_Buy is a continuous datatype (Numerical).\n"
   ]
  },
  {
   "cell_type": "markdown",
   "id": "f8b39b9d",
   "metadata": {},
   "source": [
    "### Outliers Analysis\n",
    "This is right skewed data but the strength of outliers is increasing at the end of the tail which indicates that outliers are not a human error but some people are showing behavior other than population.\n"
   ]
  },
  {
   "cell_type": "markdown",
   "id": "f6cc4d83",
   "metadata": {},
   "source": [
    "## 14. Analysis of  the Total Transaction Count: Number of transactions made by the card holder\n"
   ]
  },
  {
   "cell_type": "markdown",
   "id": "f25f399f",
   "metadata": {},
   "source": [
    "###### Total_Trans_Ct is a continuous datatype (Numerical).\n"
   ]
  },
  {
   "cell_type": "markdown",
   "id": "eb4837e4",
   "metadata": {},
   "source": [
    "## ***Interpretation: Majority of the customers are making more than 50 transactions."
   ]
  },
  {
   "cell_type": "markdown",
   "id": "7927d786",
   "metadata": {},
   "source": [
    "## Q15. Analysis of  the Avg_Utilization_Ratio: It is a ratio of Total Revolving Balance to Credit Limit.\n",
    "#### $$\\frac{Total\\;Revolving\\; Balance}{Credit \\;Limit}$$\n",
    "### The higher the value, the more the customers are spending.\n"
   ]
  },
  {
   "cell_type": "markdown",
   "id": "840d3fc3",
   "metadata": {},
   "source": [
    "###### Avg_Utilization_Ratio is a continuous datatype (Numerical).\n"
   ]
  },
  {
   "cell_type": "markdown",
   "id": "a746c40d",
   "metadata": {},
   "source": [
    "This is a right skewed data with no outliers.\n",
    "## ***Interpretation: Around 75% of the customers are having low utilization (less than 0.5 utilization)."
   ]
  },
  {
   "cell_type": "code",
   "execution_count": null,
   "id": "16d278d5",
   "metadata": {},
   "outputs": [],
   "source": []
  },
  {
   "cell_type": "code",
   "execution_count": null,
   "id": "0a50b039",
   "metadata": {},
   "outputs": [],
   "source": []
  },
  {
   "cell_type": "code",
   "execution_count": null,
   "id": "5c275b37",
   "metadata": {},
   "outputs": [],
   "source": []
  },
  {
   "cell_type": "code",
   "execution_count": null,
   "id": "96debcfd",
   "metadata": {},
   "outputs": [],
   "source": []
  }
 ],
 "metadata": {
  "kernelspec": {
   "display_name": "Python 3 (ipykernel)",
   "language": "python",
   "name": "python3"
  },
  "language_info": {
   "codemirror_mode": {
    "name": "ipython",
    "version": 3
   },
   "file_extension": ".py",
   "mimetype": "text/x-python",
   "name": "python",
   "nbconvert_exporter": "python",
   "pygments_lexer": "ipython3",
   "version": "3.9.13"
  }
 },
 "nbformat": 4,
 "nbformat_minor": 5
}
