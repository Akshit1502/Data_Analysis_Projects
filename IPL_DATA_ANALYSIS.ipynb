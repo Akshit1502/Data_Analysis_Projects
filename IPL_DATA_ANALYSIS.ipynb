{
 "cells": [
  {
   "cell_type": "markdown",
   "id": "7a4a840e",
   "metadata": {},
   "source": [
    "# Exploring IPL Data from year 2008 to 2020"
   ]
  },
  {
   "cell_type": "markdown",
   "id": "db5d11ef",
   "metadata": {},
   "source": [
    "## Level 0 Tasks: Understanding Data"
   ]
  },
  {
   "cell_type": "markdown",
   "id": "733192fd",
   "metadata": {},
   "source": [
    "## Importing the necessary libraries "
   ]
  },
  {
   "cell_type": "code",
   "execution_count": 1,
   "id": "9a0854f3",
   "metadata": {},
   "outputs": [],
   "source": [
    "import pandas as pd\n",
    "import matplotlib.pyplot as plt\n",
    "import numpy as np\n",
    "import seaborn as sb\n",
    "import matplotlib as mat\n",
    "from tabulate import tabulate\n",
    "import mysql.connector as sql\n",
    "from sqlalchemy import create_engine"
   ]
  },
  {
   "cell_type": "markdown",
   "id": "d9f2e382",
   "metadata": {},
   "source": [
    "### Reading the file"
   ]
  },
  {
   "cell_type": "code",
   "execution_count": 2,
   "id": "4721f2be",
   "metadata": {},
   "outputs": [],
   "source": [
    "df=pd.read_csv('C://Users/user/IPL Matches 2008-2020.csv')\n",
    "df1=pd.read_csv('C://Users/user/IPL Ball-by-Ball 2008-2020.csv')"
   ]
  },
  {
   "cell_type": "code",
   "execution_count": 3,
   "id": "3945ad13",
   "metadata": {},
   "outputs": [
    {
     "data": {
      "text/html": [
       "<div>\n",
       "<style scoped>\n",
       "    .dataframe tbody tr th:only-of-type {\n",
       "        vertical-align: middle;\n",
       "    }\n",
       "\n",
       "    .dataframe tbody tr th {\n",
       "        vertical-align: top;\n",
       "    }\n",
       "\n",
       "    .dataframe thead th {\n",
       "        text-align: right;\n",
       "    }\n",
       "</style>\n",
       "<table border=\"1\" class=\"dataframe\">\n",
       "  <thead>\n",
       "    <tr style=\"text-align: right;\">\n",
       "      <th></th>\n",
       "      <th>id</th>\n",
       "      <th>city</th>\n",
       "      <th>date</th>\n",
       "      <th>player_of_match</th>\n",
       "      <th>venue</th>\n",
       "      <th>neutral_venue</th>\n",
       "      <th>team1</th>\n",
       "      <th>team2</th>\n",
       "      <th>toss_winner</th>\n",
       "      <th>toss_decision</th>\n",
       "      <th>winner</th>\n",
       "      <th>result</th>\n",
       "      <th>result_margin</th>\n",
       "      <th>eliminator</th>\n",
       "      <th>method</th>\n",
       "      <th>umpire1</th>\n",
       "      <th>umpire2</th>\n",
       "    </tr>\n",
       "  </thead>\n",
       "  <tbody>\n",
       "    <tr>\n",
       "      <th>0</th>\n",
       "      <td>335982</td>\n",
       "      <td>Bangalore</td>\n",
       "      <td>4/18/2008</td>\n",
       "      <td>BB McCullum</td>\n",
       "      <td>M Chinnaswamy Stadium</td>\n",
       "      <td>0</td>\n",
       "      <td>Royal Challengers Bangalore</td>\n",
       "      <td>Kolkata Knight Riders</td>\n",
       "      <td>Royal Challengers Bangalore</td>\n",
       "      <td>field</td>\n",
       "      <td>Kolkata Knight Riders</td>\n",
       "      <td>runs</td>\n",
       "      <td>140.0</td>\n",
       "      <td>N</td>\n",
       "      <td>NaN</td>\n",
       "      <td>Asad Rauf</td>\n",
       "      <td>RE Koertzen</td>\n",
       "    </tr>\n",
       "    <tr>\n",
       "      <th>1</th>\n",
       "      <td>335983</td>\n",
       "      <td>Chandigarh</td>\n",
       "      <td>4/19/2008</td>\n",
       "      <td>MEK Hussey</td>\n",
       "      <td>Punjab Cricket Association Stadium, Mohali</td>\n",
       "      <td>0</td>\n",
       "      <td>Kings XI Punjab</td>\n",
       "      <td>Chennai Super Kings</td>\n",
       "      <td>Chennai Super Kings</td>\n",
       "      <td>bat</td>\n",
       "      <td>Chennai Super Kings</td>\n",
       "      <td>runs</td>\n",
       "      <td>33.0</td>\n",
       "      <td>N</td>\n",
       "      <td>NaN</td>\n",
       "      <td>MR Benson</td>\n",
       "      <td>SL Shastri</td>\n",
       "    </tr>\n",
       "    <tr>\n",
       "      <th>2</th>\n",
       "      <td>335984</td>\n",
       "      <td>Delhi</td>\n",
       "      <td>4/19/2008</td>\n",
       "      <td>MF Maharoof</td>\n",
       "      <td>Feroz Shah Kotla</td>\n",
       "      <td>0</td>\n",
       "      <td>Delhi Daredevils</td>\n",
       "      <td>Rajasthan Royals</td>\n",
       "      <td>Rajasthan Royals</td>\n",
       "      <td>bat</td>\n",
       "      <td>Delhi Daredevils</td>\n",
       "      <td>wickets</td>\n",
       "      <td>9.0</td>\n",
       "      <td>N</td>\n",
       "      <td>NaN</td>\n",
       "      <td>Aleem Dar</td>\n",
       "      <td>GA Pratapkumar</td>\n",
       "    </tr>\n",
       "    <tr>\n",
       "      <th>3</th>\n",
       "      <td>335985</td>\n",
       "      <td>Mumbai</td>\n",
       "      <td>4/20/2008</td>\n",
       "      <td>MV Boucher</td>\n",
       "      <td>Wankhede Stadium</td>\n",
       "      <td>0</td>\n",
       "      <td>Mumbai Indians</td>\n",
       "      <td>Royal Challengers Bangalore</td>\n",
       "      <td>Mumbai Indians</td>\n",
       "      <td>bat</td>\n",
       "      <td>Royal Challengers Bangalore</td>\n",
       "      <td>wickets</td>\n",
       "      <td>5.0</td>\n",
       "      <td>N</td>\n",
       "      <td>NaN</td>\n",
       "      <td>SJ Davis</td>\n",
       "      <td>DJ Harper</td>\n",
       "    </tr>\n",
       "    <tr>\n",
       "      <th>4</th>\n",
       "      <td>335986</td>\n",
       "      <td>Kolkata</td>\n",
       "      <td>4/20/2008</td>\n",
       "      <td>DJ Hussey</td>\n",
       "      <td>Eden Gardens</td>\n",
       "      <td>0</td>\n",
       "      <td>Kolkata Knight Riders</td>\n",
       "      <td>Deccan Chargers</td>\n",
       "      <td>Deccan Chargers</td>\n",
       "      <td>bat</td>\n",
       "      <td>Kolkata Knight Riders</td>\n",
       "      <td>wickets</td>\n",
       "      <td>5.0</td>\n",
       "      <td>N</td>\n",
       "      <td>NaN</td>\n",
       "      <td>BF Bowden</td>\n",
       "      <td>K Hariharan</td>\n",
       "    </tr>\n",
       "  </tbody>\n",
       "</table>\n",
       "</div>"
      ],
      "text/plain": [
       "       id        city       date player_of_match  \\\n",
       "0  335982   Bangalore  4/18/2008     BB McCullum   \n",
       "1  335983  Chandigarh  4/19/2008      MEK Hussey   \n",
       "2  335984       Delhi  4/19/2008     MF Maharoof   \n",
       "3  335985      Mumbai  4/20/2008      MV Boucher   \n",
       "4  335986     Kolkata  4/20/2008       DJ Hussey   \n",
       "\n",
       "                                        venue  neutral_venue  \\\n",
       "0                       M Chinnaswamy Stadium              0   \n",
       "1  Punjab Cricket Association Stadium, Mohali              0   \n",
       "2                            Feroz Shah Kotla              0   \n",
       "3                            Wankhede Stadium              0   \n",
       "4                                Eden Gardens              0   \n",
       "\n",
       "                         team1                        team2  \\\n",
       "0  Royal Challengers Bangalore        Kolkata Knight Riders   \n",
       "1              Kings XI Punjab          Chennai Super Kings   \n",
       "2             Delhi Daredevils             Rajasthan Royals   \n",
       "3               Mumbai Indians  Royal Challengers Bangalore   \n",
       "4        Kolkata Knight Riders              Deccan Chargers   \n",
       "\n",
       "                   toss_winner toss_decision                       winner  \\\n",
       "0  Royal Challengers Bangalore         field        Kolkata Knight Riders   \n",
       "1          Chennai Super Kings           bat          Chennai Super Kings   \n",
       "2             Rajasthan Royals           bat             Delhi Daredevils   \n",
       "3               Mumbai Indians           bat  Royal Challengers Bangalore   \n",
       "4              Deccan Chargers           bat        Kolkata Knight Riders   \n",
       "\n",
       "    result  result_margin eliminator method    umpire1         umpire2  \n",
       "0     runs          140.0          N    NaN  Asad Rauf     RE Koertzen  \n",
       "1     runs           33.0          N    NaN  MR Benson      SL Shastri  \n",
       "2  wickets            9.0          N    NaN  Aleem Dar  GA Pratapkumar  \n",
       "3  wickets            5.0          N    NaN   SJ Davis       DJ Harper  \n",
       "4  wickets            5.0          N    NaN  BF Bowden     K Hariharan  "
      ]
     },
     "execution_count": 3,
     "metadata": {},
     "output_type": "execute_result"
    }
   ],
   "source": [
    "df.head()"
   ]
  },
  {
   "cell_type": "code",
   "execution_count": 4,
   "id": "9812a07b",
   "metadata": {},
   "outputs": [
    {
     "data": {
      "text/html": [
       "<div>\n",
       "<style scoped>\n",
       "    .dataframe tbody tr th:only-of-type {\n",
       "        vertical-align: middle;\n",
       "    }\n",
       "\n",
       "    .dataframe tbody tr th {\n",
       "        vertical-align: top;\n",
       "    }\n",
       "\n",
       "    .dataframe thead th {\n",
       "        text-align: right;\n",
       "    }\n",
       "</style>\n",
       "<table border=\"1\" class=\"dataframe\">\n",
       "  <thead>\n",
       "    <tr style=\"text-align: right;\">\n",
       "      <th></th>\n",
       "      <th>id</th>\n",
       "      <th>city</th>\n",
       "      <th>date</th>\n",
       "      <th>player_of_match</th>\n",
       "      <th>venue</th>\n",
       "      <th>neutral_venue</th>\n",
       "      <th>team1</th>\n",
       "      <th>team2</th>\n",
       "      <th>toss_winner</th>\n",
       "      <th>toss_decision</th>\n",
       "      <th>winner</th>\n",
       "      <th>result</th>\n",
       "      <th>result_margin</th>\n",
       "      <th>eliminator</th>\n",
       "      <th>method</th>\n",
       "      <th>umpire1</th>\n",
       "      <th>umpire2</th>\n",
       "    </tr>\n",
       "  </thead>\n",
       "  <tbody>\n",
       "    <tr>\n",
       "      <th>811</th>\n",
       "      <td>1216547</td>\n",
       "      <td>Dubai</td>\n",
       "      <td>9/28/2020</td>\n",
       "      <td>AB de Villiers</td>\n",
       "      <td>Dubai International Cricket Stadium</td>\n",
       "      <td>0</td>\n",
       "      <td>Royal Challengers Bangalore</td>\n",
       "      <td>Mumbai Indians</td>\n",
       "      <td>Mumbai Indians</td>\n",
       "      <td>field</td>\n",
       "      <td>Royal Challengers Bangalore</td>\n",
       "      <td>tie</td>\n",
       "      <td>NaN</td>\n",
       "      <td>Y</td>\n",
       "      <td>NaN</td>\n",
       "      <td>Nitin Menon</td>\n",
       "      <td>PR Reiffel</td>\n",
       "    </tr>\n",
       "    <tr>\n",
       "      <th>812</th>\n",
       "      <td>1237177</td>\n",
       "      <td>Dubai</td>\n",
       "      <td>11/5/2020</td>\n",
       "      <td>JJ Bumrah</td>\n",
       "      <td>Dubai International Cricket Stadium</td>\n",
       "      <td>0</td>\n",
       "      <td>Mumbai Indians</td>\n",
       "      <td>Delhi Capitals</td>\n",
       "      <td>Delhi Capitals</td>\n",
       "      <td>field</td>\n",
       "      <td>Mumbai Indians</td>\n",
       "      <td>runs</td>\n",
       "      <td>57.0</td>\n",
       "      <td>N</td>\n",
       "      <td>NaN</td>\n",
       "      <td>CB Gaffaney</td>\n",
       "      <td>Nitin Menon</td>\n",
       "    </tr>\n",
       "    <tr>\n",
       "      <th>813</th>\n",
       "      <td>1237178</td>\n",
       "      <td>Abu Dhabi</td>\n",
       "      <td>11/6/2020</td>\n",
       "      <td>KS Williamson</td>\n",
       "      <td>Sheikh Zayed Stadium</td>\n",
       "      <td>0</td>\n",
       "      <td>Royal Challengers Bangalore</td>\n",
       "      <td>Sunrisers Hyderabad</td>\n",
       "      <td>Sunrisers Hyderabad</td>\n",
       "      <td>field</td>\n",
       "      <td>Sunrisers Hyderabad</td>\n",
       "      <td>wickets</td>\n",
       "      <td>6.0</td>\n",
       "      <td>N</td>\n",
       "      <td>NaN</td>\n",
       "      <td>PR Reiffel</td>\n",
       "      <td>S Ravi</td>\n",
       "    </tr>\n",
       "    <tr>\n",
       "      <th>814</th>\n",
       "      <td>1237180</td>\n",
       "      <td>Abu Dhabi</td>\n",
       "      <td>11/8/2020</td>\n",
       "      <td>MP Stoinis</td>\n",
       "      <td>Sheikh Zayed Stadium</td>\n",
       "      <td>0</td>\n",
       "      <td>Delhi Capitals</td>\n",
       "      <td>Sunrisers Hyderabad</td>\n",
       "      <td>Delhi Capitals</td>\n",
       "      <td>bat</td>\n",
       "      <td>Delhi Capitals</td>\n",
       "      <td>runs</td>\n",
       "      <td>17.0</td>\n",
       "      <td>N</td>\n",
       "      <td>NaN</td>\n",
       "      <td>PR Reiffel</td>\n",
       "      <td>S Ravi</td>\n",
       "    </tr>\n",
       "    <tr>\n",
       "      <th>815</th>\n",
       "      <td>1237181</td>\n",
       "      <td>Dubai</td>\n",
       "      <td>11/10/2020</td>\n",
       "      <td>TA Boult</td>\n",
       "      <td>Dubai International Cricket Stadium</td>\n",
       "      <td>0</td>\n",
       "      <td>Delhi Capitals</td>\n",
       "      <td>Mumbai Indians</td>\n",
       "      <td>Delhi Capitals</td>\n",
       "      <td>bat</td>\n",
       "      <td>Mumbai Indians</td>\n",
       "      <td>wickets</td>\n",
       "      <td>5.0</td>\n",
       "      <td>N</td>\n",
       "      <td>NaN</td>\n",
       "      <td>CB Gaffaney</td>\n",
       "      <td>Nitin Menon</td>\n",
       "    </tr>\n",
       "  </tbody>\n",
       "</table>\n",
       "</div>"
      ],
      "text/plain": [
       "          id       city        date player_of_match  \\\n",
       "811  1216547      Dubai   9/28/2020  AB de Villiers   \n",
       "812  1237177      Dubai   11/5/2020       JJ Bumrah   \n",
       "813  1237178  Abu Dhabi   11/6/2020   KS Williamson   \n",
       "814  1237180  Abu Dhabi   11/8/2020      MP Stoinis   \n",
       "815  1237181      Dubai  11/10/2020        TA Boult   \n",
       "\n",
       "                                   venue  neutral_venue  \\\n",
       "811  Dubai International Cricket Stadium              0   \n",
       "812  Dubai International Cricket Stadium              0   \n",
       "813                 Sheikh Zayed Stadium              0   \n",
       "814                 Sheikh Zayed Stadium              0   \n",
       "815  Dubai International Cricket Stadium              0   \n",
       "\n",
       "                           team1                team2          toss_winner  \\\n",
       "811  Royal Challengers Bangalore       Mumbai Indians       Mumbai Indians   \n",
       "812               Mumbai Indians       Delhi Capitals       Delhi Capitals   \n",
       "813  Royal Challengers Bangalore  Sunrisers Hyderabad  Sunrisers Hyderabad   \n",
       "814               Delhi Capitals  Sunrisers Hyderabad       Delhi Capitals   \n",
       "815               Delhi Capitals       Mumbai Indians       Delhi Capitals   \n",
       "\n",
       "    toss_decision                       winner   result  result_margin  \\\n",
       "811         field  Royal Challengers Bangalore      tie            NaN   \n",
       "812         field               Mumbai Indians     runs           57.0   \n",
       "813         field          Sunrisers Hyderabad  wickets            6.0   \n",
       "814           bat               Delhi Capitals     runs           17.0   \n",
       "815           bat               Mumbai Indians  wickets            5.0   \n",
       "\n",
       "    eliminator method      umpire1      umpire2  \n",
       "811          Y    NaN  Nitin Menon   PR Reiffel  \n",
       "812          N    NaN  CB Gaffaney  Nitin Menon  \n",
       "813          N    NaN   PR Reiffel       S Ravi  \n",
       "814          N    NaN   PR Reiffel       S Ravi  \n",
       "815          N    NaN  CB Gaffaney  Nitin Menon  "
      ]
     },
     "execution_count": 4,
     "metadata": {},
     "output_type": "execute_result"
    }
   ],
   "source": [
    "df.tail()"
   ]
  },
  {
   "cell_type": "code",
   "execution_count": 5,
   "id": "52ddbf83",
   "metadata": {},
   "outputs": [
    {
     "data": {
      "text/plain": [
       "Index(['id', 'city', 'date', 'player_of_match', 'venue', 'neutral_venue',\n",
       "       'team1', 'team2', 'toss_winner', 'toss_decision', 'winner', 'result',\n",
       "       'result_margin', 'eliminator', 'method', 'umpire1', 'umpire2'],\n",
       "      dtype='object')"
      ]
     },
     "execution_count": 5,
     "metadata": {},
     "output_type": "execute_result"
    }
   ],
   "source": [
    "df.columns"
   ]
  },
  {
   "cell_type": "code",
   "execution_count": 6,
   "id": "5f8c7505",
   "metadata": {},
   "outputs": [
    {
     "name": "stdout",
     "output_type": "stream",
     "text": [
      "<class 'pandas.core.frame.DataFrame'>\n",
      "RangeIndex: 816 entries, 0 to 815\n",
      "Data columns (total 17 columns):\n",
      " #   Column           Non-Null Count  Dtype  \n",
      "---  ------           --------------  -----  \n",
      " 0   id               816 non-null    int64  \n",
      " 1   city             816 non-null    object \n",
      " 2   date             816 non-null    object \n",
      " 3   player_of_match  812 non-null    object \n",
      " 4   venue            816 non-null    object \n",
      " 5   neutral_venue    816 non-null    int64  \n",
      " 6   team1            816 non-null    object \n",
      " 7   team2            816 non-null    object \n",
      " 8   toss_winner      816 non-null    object \n",
      " 9   toss_decision    816 non-null    object \n",
      " 10  winner           812 non-null    object \n",
      " 11  result           812 non-null    object \n",
      " 12  result_margin    799 non-null    float64\n",
      " 13  eliminator       812 non-null    object \n",
      " 14  method           19 non-null     object \n",
      " 15  umpire1          816 non-null    object \n",
      " 16  umpire2          816 non-null    object \n",
      "dtypes: float64(1), int64(2), object(14)\n",
      "memory usage: 108.5+ KB\n"
     ]
    }
   ],
   "source": [
    "df.info()"
   ]
  },
  {
   "cell_type": "code",
   "execution_count": 7,
   "id": "238a02c1",
   "metadata": {},
   "outputs": [
    {
     "data": {
      "text/plain": [
       "id                   0\n",
       "city                 0\n",
       "date                 0\n",
       "player_of_match      4\n",
       "venue                0\n",
       "neutral_venue        0\n",
       "team1                0\n",
       "team2                0\n",
       "toss_winner          0\n",
       "toss_decision        0\n",
       "winner               4\n",
       "result               4\n",
       "result_margin       17\n",
       "eliminator           4\n",
       "method             797\n",
       "umpire1              0\n",
       "umpire2              0\n",
       "dtype: int64"
      ]
     },
     "execution_count": 7,
     "metadata": {},
     "output_type": "execute_result"
    }
   ],
   "source": [
    "df.isnull().sum()"
   ]
  },
  {
   "cell_type": "code",
   "execution_count": 8,
   "id": "029a8bc7",
   "metadata": {},
   "outputs": [
    {
     "data": {
      "text/html": [
       "<div>\n",
       "<style scoped>\n",
       "    .dataframe tbody tr th:only-of-type {\n",
       "        vertical-align: middle;\n",
       "    }\n",
       "\n",
       "    .dataframe tbody tr th {\n",
       "        vertical-align: top;\n",
       "    }\n",
       "\n",
       "    .dataframe thead th {\n",
       "        text-align: right;\n",
       "    }\n",
       "</style>\n",
       "<table border=\"1\" class=\"dataframe\">\n",
       "  <thead>\n",
       "    <tr style=\"text-align: right;\">\n",
       "      <th></th>\n",
       "      <th>id</th>\n",
       "      <th>inning</th>\n",
       "      <th>over</th>\n",
       "      <th>ball</th>\n",
       "      <th>batsman</th>\n",
       "      <th>non_striker</th>\n",
       "      <th>bowler</th>\n",
       "      <th>batsman_runs</th>\n",
       "      <th>extra_runs</th>\n",
       "      <th>total_runs</th>\n",
       "      <th>non_boundary</th>\n",
       "      <th>is_wicket</th>\n",
       "      <th>dismissal_kind</th>\n",
       "      <th>player_dismissed</th>\n",
       "      <th>fielder</th>\n",
       "      <th>extras_type</th>\n",
       "      <th>batting_team</th>\n",
       "      <th>bowling_team</th>\n",
       "    </tr>\n",
       "  </thead>\n",
       "  <tbody>\n",
       "    <tr>\n",
       "      <th>0</th>\n",
       "      <td>335982</td>\n",
       "      <td>1</td>\n",
       "      <td>6</td>\n",
       "      <td>5</td>\n",
       "      <td>RT Ponting</td>\n",
       "      <td>BB McCullum</td>\n",
       "      <td>AA Noffke</td>\n",
       "      <td>1</td>\n",
       "      <td>0</td>\n",
       "      <td>1</td>\n",
       "      <td>0</td>\n",
       "      <td>0</td>\n",
       "      <td>NaN</td>\n",
       "      <td>NaN</td>\n",
       "      <td>NaN</td>\n",
       "      <td>NaN</td>\n",
       "      <td>Kolkata Knight Riders</td>\n",
       "      <td>Royal Challengers Bangalore</td>\n",
       "    </tr>\n",
       "    <tr>\n",
       "      <th>1</th>\n",
       "      <td>335982</td>\n",
       "      <td>1</td>\n",
       "      <td>6</td>\n",
       "      <td>6</td>\n",
       "      <td>BB McCullum</td>\n",
       "      <td>RT Ponting</td>\n",
       "      <td>AA Noffke</td>\n",
       "      <td>1</td>\n",
       "      <td>0</td>\n",
       "      <td>1</td>\n",
       "      <td>0</td>\n",
       "      <td>0</td>\n",
       "      <td>NaN</td>\n",
       "      <td>NaN</td>\n",
       "      <td>NaN</td>\n",
       "      <td>NaN</td>\n",
       "      <td>Kolkata Knight Riders</td>\n",
       "      <td>Royal Challengers Bangalore</td>\n",
       "    </tr>\n",
       "    <tr>\n",
       "      <th>2</th>\n",
       "      <td>335982</td>\n",
       "      <td>1</td>\n",
       "      <td>7</td>\n",
       "      <td>1</td>\n",
       "      <td>BB McCullum</td>\n",
       "      <td>RT Ponting</td>\n",
       "      <td>Z Khan</td>\n",
       "      <td>0</td>\n",
       "      <td>0</td>\n",
       "      <td>0</td>\n",
       "      <td>0</td>\n",
       "      <td>0</td>\n",
       "      <td>NaN</td>\n",
       "      <td>NaN</td>\n",
       "      <td>NaN</td>\n",
       "      <td>NaN</td>\n",
       "      <td>Kolkata Knight Riders</td>\n",
       "      <td>Royal Challengers Bangalore</td>\n",
       "    </tr>\n",
       "    <tr>\n",
       "      <th>3</th>\n",
       "      <td>335982</td>\n",
       "      <td>1</td>\n",
       "      <td>7</td>\n",
       "      <td>2</td>\n",
       "      <td>BB McCullum</td>\n",
       "      <td>RT Ponting</td>\n",
       "      <td>Z Khan</td>\n",
       "      <td>1</td>\n",
       "      <td>0</td>\n",
       "      <td>1</td>\n",
       "      <td>0</td>\n",
       "      <td>0</td>\n",
       "      <td>NaN</td>\n",
       "      <td>NaN</td>\n",
       "      <td>NaN</td>\n",
       "      <td>NaN</td>\n",
       "      <td>Kolkata Knight Riders</td>\n",
       "      <td>Royal Challengers Bangalore</td>\n",
       "    </tr>\n",
       "    <tr>\n",
       "      <th>4</th>\n",
       "      <td>335982</td>\n",
       "      <td>1</td>\n",
       "      <td>7</td>\n",
       "      <td>3</td>\n",
       "      <td>RT Ponting</td>\n",
       "      <td>BB McCullum</td>\n",
       "      <td>Z Khan</td>\n",
       "      <td>1</td>\n",
       "      <td>0</td>\n",
       "      <td>1</td>\n",
       "      <td>0</td>\n",
       "      <td>0</td>\n",
       "      <td>NaN</td>\n",
       "      <td>NaN</td>\n",
       "      <td>NaN</td>\n",
       "      <td>NaN</td>\n",
       "      <td>Kolkata Knight Riders</td>\n",
       "      <td>Royal Challengers Bangalore</td>\n",
       "    </tr>\n",
       "  </tbody>\n",
       "</table>\n",
       "</div>"
      ],
      "text/plain": [
       "       id  inning  over  ball      batsman  non_striker     bowler  \\\n",
       "0  335982       1     6     5   RT Ponting  BB McCullum  AA Noffke   \n",
       "1  335982       1     6     6  BB McCullum   RT Ponting  AA Noffke   \n",
       "2  335982       1     7     1  BB McCullum   RT Ponting     Z Khan   \n",
       "3  335982       1     7     2  BB McCullum   RT Ponting     Z Khan   \n",
       "4  335982       1     7     3   RT Ponting  BB McCullum     Z Khan   \n",
       "\n",
       "   batsman_runs  extra_runs  total_runs  non_boundary  is_wicket  \\\n",
       "0             1           0           1             0          0   \n",
       "1             1           0           1             0          0   \n",
       "2             0           0           0             0          0   \n",
       "3             1           0           1             0          0   \n",
       "4             1           0           1             0          0   \n",
       "\n",
       "  dismissal_kind player_dismissed fielder extras_type           batting_team  \\\n",
       "0            NaN              NaN     NaN         NaN  Kolkata Knight Riders   \n",
       "1            NaN              NaN     NaN         NaN  Kolkata Knight Riders   \n",
       "2            NaN              NaN     NaN         NaN  Kolkata Knight Riders   \n",
       "3            NaN              NaN     NaN         NaN  Kolkata Knight Riders   \n",
       "4            NaN              NaN     NaN         NaN  Kolkata Knight Riders   \n",
       "\n",
       "                  bowling_team  \n",
       "0  Royal Challengers Bangalore  \n",
       "1  Royal Challengers Bangalore  \n",
       "2  Royal Challengers Bangalore  \n",
       "3  Royal Challengers Bangalore  \n",
       "4  Royal Challengers Bangalore  "
      ]
     },
     "execution_count": 8,
     "metadata": {},
     "output_type": "execute_result"
    }
   ],
   "source": [
    "df1.head()"
   ]
  },
  {
   "cell_type": "code",
   "execution_count": 9,
   "id": "63169a90",
   "metadata": {},
   "outputs": [
    {
     "data": {
      "text/plain": [
       "Index(['id', 'inning', 'over', 'ball', 'batsman', 'non_striker', 'bowler',\n",
       "       'batsman_runs', 'extra_runs', 'total_runs', 'non_boundary', 'is_wicket',\n",
       "       'dismissal_kind', 'player_dismissed', 'fielder', 'extras_type',\n",
       "       'batting_team', 'bowling_team'],\n",
       "      dtype='object')"
      ]
     },
     "execution_count": 9,
     "metadata": {},
     "output_type": "execute_result"
    }
   ],
   "source": [
    "df1.columns"
   ]
  },
  {
   "cell_type": "code",
   "execution_count": 10,
   "id": "f10feb44",
   "metadata": {},
   "outputs": [
    {
     "data": {
      "text/plain": [
       "(193468, 18)"
      ]
     },
     "execution_count": 10,
     "metadata": {},
     "output_type": "execute_result"
    }
   ],
   "source": [
    "df1.shape"
   ]
  },
  {
   "cell_type": "code",
   "execution_count": 11,
   "id": "96ef4249",
   "metadata": {},
   "outputs": [
    {
     "data": {
      "text/plain": [
       "id                       0\n",
       "inning                   0\n",
       "over                     0\n",
       "ball                     0\n",
       "batsman                  0\n",
       "non_striker              0\n",
       "bowler                   0\n",
       "batsman_runs             0\n",
       "extra_runs               0\n",
       "total_runs               0\n",
       "non_boundary             0\n",
       "is_wicket                0\n",
       "dismissal_kind      183973\n",
       "player_dismissed    183973\n",
       "fielder             186684\n",
       "extras_type         183235\n",
       "batting_team             0\n",
       "bowling_team           191\n",
       "dtype: int64"
      ]
     },
     "execution_count": 11,
     "metadata": {},
     "output_type": "execute_result"
    }
   ],
   "source": [
    "df1.isnull().sum()"
   ]
  },
  {
   "cell_type": "code",
   "execution_count": 12,
   "id": "18e86378",
   "metadata": {},
   "outputs": [
    {
     "data": {
      "text/plain": [
       "Eden Gardens                                            77\n",
       "Feroz Shah Kotla                                        74\n",
       "Wankhede Stadium                                        73\n",
       "M Chinnaswamy Stadium                                   65\n",
       "Rajiv Gandhi International Stadium, Uppal               64\n",
       "MA Chidambaram Stadium, Chepauk                         57\n",
       "Sawai Mansingh Stadium                                  47\n",
       "Punjab Cricket Association Stadium, Mohali              35\n",
       "Dubai International Cricket Stadium                     33\n",
       "Sheikh Zayed Stadium                                    29\n",
       "Punjab Cricket Association IS Bindra Stadium, Mohali    21\n",
       "Maharashtra Cricket Association Stadium                 21\n",
       "Sharjah Cricket Stadium                                 18\n",
       "Dr DY Patil Sports Academy                              17\n",
       "Subrata Roy Sahara Stadium                              17\n",
       "M.Chinnaswamy Stadium                                   15\n",
       "Kingsmead                                               15\n",
       "Dr. Y.S. Rajasekhara Reddy ACA-VDCA Cricket Stadium     13\n",
       "Sardar Patel Stadium, Motera                            12\n",
       "SuperSport Park                                         12\n",
       "Brabourne Stadium                                       11\n",
       "Saurashtra Cricket Association Stadium                  10\n",
       "Himachal Pradesh Cricket Association Stadium             9\n",
       "Holkar Cricket Stadium                                   9\n",
       "New Wanderers Stadium                                    8\n",
       "Barabati Stadium                                         7\n",
       "Newlands                                                 7\n",
       "St George's Park                                         7\n",
       "JSCA International Stadium Complex                       7\n",
       "Shaheed Veer Narayan Singh International Stadium         6\n",
       "Nehru Stadium                                            5\n",
       "Green Park                                               4\n",
       "Buffalo Park                                             3\n",
       "Vidarbha Cricket Association Stadium, Jamtha             3\n",
       "De Beers Diamond Oval                                    3\n",
       "OUTsurance Oval                                          2\n",
       "Name: venue, dtype: int64"
      ]
     },
     "execution_count": 12,
     "metadata": {},
     "output_type": "execute_result"
    }
   ],
   "source": [
    "df.venue.value_counts()"
   ]
  },
  {
   "cell_type": "code",
   "execution_count": 13,
   "id": "15c47fe1",
   "metadata": {},
   "outputs": [],
   "source": [
    "df['team1'] = df['team1'].replace(to_replace=['Deccan Chargers','Rising Pune Supergiants','Delhi Daredevils'],value=['Sunrisers Hyderabad','Rising Pune Supergiant','Delhi Capitals'])"
   ]
  },
  {
   "cell_type": "code",
   "execution_count": 14,
   "id": "7e9ae851",
   "metadata": {},
   "outputs": [],
   "source": [
    "df['team2'] = df['team2'].replace(to_replace=['Deccan Chargers','Rising Pune Supergiants','Delhi Daredevils'],value=['Sunrisers Hyderabad','Rising Pune Supergiant','Delhi Capitals'])"
   ]
  },
  {
   "cell_type": "code",
   "execution_count": 15,
   "id": "e26bf0a6",
   "metadata": {},
   "outputs": [],
   "source": [
    "df['venue']=df['venue'].replace(to_replace=['Bangalore'],value=['Bengaluru'])"
   ]
  },
  {
   "cell_type": "markdown",
   "id": "da21596f",
   "metadata": {},
   "source": [
    "### Separating Categorical and Numerical Variables"
   ]
  },
  {
   "cell_type": "code",
   "execution_count": 16,
   "id": "bd75c3d3",
   "metadata": {},
   "outputs": [
    {
     "name": "stdout",
     "output_type": "stream",
     "text": [
      "Categorical      Continous\n",
      "---------------  -------------\n",
      "city             id\n",
      "date             neutral_venue\n",
      "player_of_match  result_margin\n",
      "venue\n",
      "team1\n",
      "team2\n",
      "toss_winner\n",
      "toss_decision\n",
      "winner\n",
      "result\n",
      "eliminator\n",
      "method\n",
      "umpire1\n",
      "umpire2\n"
     ]
    }
   ],
   "source": [
    "def seperate_data_types(df):\n",
    "    Categorical=[]\n",
    "    Continous=[]\n",
    "    \n",
    "    for column in df.columns:   #looping on the number of columns\n",
    "        if df[column].dtype=='object': #nunique returns the unique values in the column.100 is the hyper parameter and can be changed            \n",
    "            Categorical.append(column)\n",
    "        else:\n",
    "            Continous.append(column)\n",
    "    return Categorical,Continous\n",
    "\n",
    "Categorical,Continous=seperate_data_types(df)   #calling the function\n",
    "\n",
    "#Tabulate is a package used to display list,dictionary or any other data types in tabular format\n",
    "from tabulate import tabulate\n",
    "table=[Categorical,Continous]\n",
    "print(tabulate ({\"Categorical\":Categorical,\"Continous\":Continous},headers=['Categorical','Continous']))"
   ]
  },
  {
   "cell_type": "code",
   "execution_count": 17,
   "id": "2c55420a",
   "metadata": {},
   "outputs": [
    {
     "name": "stdout",
     "output_type": "stream",
     "text": [
      "Categorical       Continous\n",
      "----------------  ------------\n",
      "batsman           id\n",
      "non_striker       inning\n",
      "bowler            over\n",
      "dismissal_kind    ball\n",
      "player_dismissed  batsman_runs\n",
      "fielder           extra_runs\n",
      "extras_type       total_runs\n",
      "batting_team      non_boundary\n",
      "bowling_team      is_wicket\n"
     ]
    }
   ],
   "source": [
    "def seperate_data_types(df1):\n",
    "    Categorical=[]\n",
    "    Continous=[]\n",
    "    \n",
    "    for column in df1.columns:   #looping on the number of columns\n",
    "        if df1[column].dtype=='object': \n",
    "            Categorical.append(column)\n",
    "        else:\n",
    "            Continous.append(column)\n",
    "    return Categorical,Continous\n",
    "\n",
    "Categorical,Continous=seperate_data_types(df1)   #calling the function\n",
    "\n",
    "#Tabulate is a package used to display list,dictionary or any other data types in tabular format\n",
    "from tabulate import tabulate\n",
    "table=[Categorical,Continous]\n",
    "print(tabulate ({\"Categorical\":Categorical,\"Continous\":Continous},headers=['Categorical','Continous']))"
   ]
  },
  {
   "cell_type": "code",
   "execution_count": 18,
   "id": "757098fb",
   "metadata": {},
   "outputs": [
    {
     "data": {
      "text/plain": [
       "id                       0\n",
       "inning                   0\n",
       "over                     0\n",
       "ball                     0\n",
       "batsman                  0\n",
       "non_striker              0\n",
       "bowler                   0\n",
       "batsman_runs             0\n",
       "extra_runs               0\n",
       "total_runs               0\n",
       "non_boundary             0\n",
       "is_wicket                0\n",
       "dismissal_kind      183973\n",
       "player_dismissed    183973\n",
       "fielder             186684\n",
       "extras_type         183235\n",
       "batting_team             0\n",
       "bowling_team           191\n",
       "dtype: int64"
      ]
     },
     "execution_count": 18,
     "metadata": {},
     "output_type": "execute_result"
    }
   ],
   "source": [
    "df1.isnull().sum()"
   ]
  },
  {
   "cell_type": "code",
   "execution_count": 19,
   "id": "1d052ca3",
   "metadata": {},
   "outputs": [],
   "source": [
    "def info_of_cat(col):\n",
    "    print(f\" unique values in {col} are:{df[col].unique()}\")\n",
    "    print(f\" Mode of {col} is:{df[col].mode()[0]}\")\n",
    "    print(f\" Total missing values in {col} is:{df[col].isnull().sum()}\")"
   ]
  },
  {
   "cell_type": "code",
   "execution_count": 20,
   "id": "60578099",
   "metadata": {},
   "outputs": [
    {
     "name": "stdout",
     "output_type": "stream",
     "text": [
      " unique values in result_margin are:[140.  33.   9.   5.   6.   3.  66.   7.  10.   4.  13.  45.   8.  29.\n",
      "  18.  23.  41.  12.  65.  25.   1.  14. 105.  19.  75.  92.  11.  24.\n",
      "  nan  27.  38.  78.  16.  53.   2.  31.  55.  98.  34.  36.  39.  17.\n",
      "  40.  67.  63.  37.  57.  35.  22.  21.  48.  26.  20.  85.  32.  76.\n",
      " 111.  82.  43.  58.  28.  74.  42.  59.  46.  47.  86.  44.  87. 130.\n",
      "  15.  60.  77.  30.  50.  93.  72.  62.  97. 138.  71. 144.  80.  51.\n",
      "  61. 146.  64. 102. 118.  49.  88.  69.]\n",
      " Mode of result_margin is:6.0\n",
      " Total missing values in result_margin is:17\n"
     ]
    }
   ],
   "source": [
    "info_of_cat('result_margin')"
   ]
  },
  {
   "cell_type": "code",
   "execution_count": 21,
   "id": "ee441bfe",
   "metadata": {},
   "outputs": [],
   "source": [
    "df['result_margin']=df['result_margin'].fillna(6.0)"
   ]
  },
  {
   "cell_type": "code",
   "execution_count": 22,
   "id": "fe35e6ee",
   "metadata": {},
   "outputs": [
    {
     "name": "stdout",
     "output_type": "stream",
     "text": [
      " unique values in result_margin are:[140.  33.   9.   5.   6.   3.  66.   7.  10.   4.  13.  45.   8.  29.\n",
      "  18.  23.  41.  12.  65.  25.   1.  14. 105.  19.  75.  92.  11.  24.\n",
      "  27.  38.  78.  16.  53.   2.  31.  55.  98.  34.  36.  39.  17.  40.\n",
      "  67.  63.  37.  57.  35.  22.  21.  48.  26.  20.  85.  32.  76. 111.\n",
      "  82.  43.  58.  28.  74.  42.  59.  46.  47.  86.  44.  87. 130.  15.\n",
      "  60.  77.  30.  50.  93.  72.  62.  97. 138.  71. 144.  80.  51.  61.\n",
      " 146.  64. 102. 118.  49.  88.  69.]\n",
      " Mode of result_margin is:6.0\n",
      " Total missing values in result_margin is:0\n"
     ]
    }
   ],
   "source": [
    "info_of_cat('result_margin')"
   ]
  },
  {
   "cell_type": "code",
   "execution_count": 23,
   "id": "214d6c24",
   "metadata": {},
   "outputs": [],
   "source": [
    "def info_of_cat(col):\n",
    "    print(f\" unique values in {col} are:{df1[col].unique()}\")\n",
    "    print(f\" Mode of {col} is:{df1[col].mode()[0]}\")\n",
    "    print(f\" Total missing values in {col} is:{df1[col].isnull().sum()}\")"
   ]
  },
  {
   "cell_type": "code",
   "execution_count": 24,
   "id": "5857acfc",
   "metadata": {},
   "outputs": [
    {
     "name": "stdout",
     "output_type": "stream",
     "text": [
      " unique values in bowling_team are:['Royal Challengers Bangalore' 'Kolkata Knight Riders'\n",
      " 'Chennai Super Kings' 'Kings XI Punjab' 'Delhi Daredevils'\n",
      " 'Rajasthan Royals' 'Mumbai Indians' 'Deccan Chargers'\n",
      " 'Kochi Tuskers Kerala' 'Pune Warriors' nan 'Sunrisers Hyderabad'\n",
      " 'Rising Pune Supergiants' 'Gujarat Lions' 'Rising Pune Supergiant'\n",
      " 'Delhi Capitals']\n",
      " Mode of bowling_team is:Mumbai Indians\n",
      " Total missing values in bowling_team is:191\n"
     ]
    }
   ],
   "source": [
    "info_of_cat('bowling_team')"
   ]
  },
  {
   "cell_type": "code",
   "execution_count": 25,
   "id": "48bdb1b9",
   "metadata": {},
   "outputs": [],
   "source": [
    "df1['bowling_team']=df1['bowling_team'].fillna('Mumbai Indians')"
   ]
  },
  {
   "cell_type": "code",
   "execution_count": 26,
   "id": "72f5760a",
   "metadata": {},
   "outputs": [],
   "source": [
    "db=sql.connect(host='localhost',username='root',password='Akshit15')"
   ]
  },
  {
   "cell_type": "code",
   "execution_count": 27,
   "id": "25504faa",
   "metadata": {},
   "outputs": [],
   "source": [
    "cursor=db.cursor()"
   ]
  },
  {
   "cell_type": "code",
   "execution_count": 28,
   "id": "fd63eebc",
   "metadata": {},
   "outputs": [],
   "source": [
    "cursor.execute('Create database if not Exists ipl')"
   ]
  },
  {
   "cell_type": "code",
   "execution_count": 29,
   "id": "346b098c",
   "metadata": {},
   "outputs": [],
   "source": [
    "hostname=\"localhost\"\n",
    "dbname=\"ipl\" # Name of the database into which we want into insert the data \n",
    "uname=\"root\"\n",
    "pwd=\"Akshit15\"\n",
    "\n",
    "\n",
    "# Create SQLAlchemy engine to connect to MySQL Database\n",
    "\n",
    "engine = create_engine(\"mysql+pymysql://{user}:{pw}@{host}/{db}\"\n",
    ".format(host=hostname, db=dbname, user=uname, pw=pwd))"
   ]
  },
  {
   "cell_type": "code",
   "execution_count": 30,
   "id": "673ecdc1",
   "metadata": {},
   "outputs": [
    {
     "ename": "ValueError",
     "evalue": "Table 'match_summary' already exists.",
     "output_type": "error",
     "traceback": [
      "\u001b[1;31m---------------------------------------------------------------------------\u001b[0m",
      "\u001b[1;31mValueError\u001b[0m                                Traceback (most recent call last)",
      "\u001b[1;32m~\\AppData\\Local\\Temp\\ipykernel_6268\\357205093.py\u001b[0m in \u001b[0;36m<module>\u001b[1;34m\u001b[0m\n\u001b[1;32m----> 1\u001b[1;33m \u001b[0mdf\u001b[0m\u001b[1;33m.\u001b[0m\u001b[0mto_sql\u001b[0m\u001b[1;33m(\u001b[0m\u001b[1;34m'match_summary'\u001b[0m\u001b[1;33m,\u001b[0m\u001b[0mengine\u001b[0m\u001b[1;33m,\u001b[0m\u001b[0mindex\u001b[0m\u001b[1;33m=\u001b[0m\u001b[1;32mFalse\u001b[0m\u001b[1;33m)\u001b[0m\u001b[1;33m\u001b[0m\u001b[1;33m\u001b[0m\u001b[0m\n\u001b[0m",
      "\u001b[1;32m~\\anaconda3\\lib\\site-packages\\pandas\\core\\generic.py\u001b[0m in \u001b[0;36mto_sql\u001b[1;34m(self, name, con, schema, if_exists, index, index_label, chunksize, dtype, method)\u001b[0m\n\u001b[0;32m   2949\u001b[0m         \u001b[1;32mfrom\u001b[0m \u001b[0mpandas\u001b[0m\u001b[1;33m.\u001b[0m\u001b[0mio\u001b[0m \u001b[1;32mimport\u001b[0m \u001b[0msql\u001b[0m\u001b[1;33m\u001b[0m\u001b[1;33m\u001b[0m\u001b[0m\n\u001b[0;32m   2950\u001b[0m \u001b[1;33m\u001b[0m\u001b[0m\n\u001b[1;32m-> 2951\u001b[1;33m         return sql.to_sql(\n\u001b[0m\u001b[0;32m   2952\u001b[0m             \u001b[0mself\u001b[0m\u001b[1;33m,\u001b[0m\u001b[1;33m\u001b[0m\u001b[1;33m\u001b[0m\u001b[0m\n\u001b[0;32m   2953\u001b[0m             \u001b[0mname\u001b[0m\u001b[1;33m,\u001b[0m\u001b[1;33m\u001b[0m\u001b[1;33m\u001b[0m\u001b[0m\n",
      "\u001b[1;32m~\\anaconda3\\lib\\site-packages\\pandas\\io\\sql.py\u001b[0m in \u001b[0;36mto_sql\u001b[1;34m(frame, name, con, schema, if_exists, index, index_label, chunksize, dtype, method, engine, **engine_kwargs)\u001b[0m\n\u001b[0;32m    696\u001b[0m         )\n\u001b[0;32m    697\u001b[0m \u001b[1;33m\u001b[0m\u001b[0m\n\u001b[1;32m--> 698\u001b[1;33m     return pandas_sql.to_sql(\n\u001b[0m\u001b[0;32m    699\u001b[0m         \u001b[0mframe\u001b[0m\u001b[1;33m,\u001b[0m\u001b[1;33m\u001b[0m\u001b[1;33m\u001b[0m\u001b[0m\n\u001b[0;32m    700\u001b[0m         \u001b[0mname\u001b[0m\u001b[1;33m,\u001b[0m\u001b[1;33m\u001b[0m\u001b[1;33m\u001b[0m\u001b[0m\n",
      "\u001b[1;32m~\\anaconda3\\lib\\site-packages\\pandas\\io\\sql.py\u001b[0m in \u001b[0;36mto_sql\u001b[1;34m(self, frame, name, if_exists, index, index_label, schema, chunksize, dtype, method, engine, **engine_kwargs)\u001b[0m\n\u001b[0;32m   1730\u001b[0m         \u001b[0msql_engine\u001b[0m \u001b[1;33m=\u001b[0m \u001b[0mget_engine\u001b[0m\u001b[1;33m(\u001b[0m\u001b[0mengine\u001b[0m\u001b[1;33m)\u001b[0m\u001b[1;33m\u001b[0m\u001b[1;33m\u001b[0m\u001b[0m\n\u001b[0;32m   1731\u001b[0m \u001b[1;33m\u001b[0m\u001b[0m\n\u001b[1;32m-> 1732\u001b[1;33m         table = self.prep_table(\n\u001b[0m\u001b[0;32m   1733\u001b[0m             \u001b[0mframe\u001b[0m\u001b[1;33m=\u001b[0m\u001b[0mframe\u001b[0m\u001b[1;33m,\u001b[0m\u001b[1;33m\u001b[0m\u001b[1;33m\u001b[0m\u001b[0m\n\u001b[0;32m   1734\u001b[0m             \u001b[0mname\u001b[0m\u001b[1;33m=\u001b[0m\u001b[0mname\u001b[0m\u001b[1;33m,\u001b[0m\u001b[1;33m\u001b[0m\u001b[1;33m\u001b[0m\u001b[0m\n",
      "\u001b[1;32m~\\anaconda3\\lib\\site-packages\\pandas\\io\\sql.py\u001b[0m in \u001b[0;36mprep_table\u001b[1;34m(self, frame, name, if_exists, index, index_label, schema, dtype)\u001b[0m\n\u001b[0;32m   1629\u001b[0m             \u001b[0mdtype\u001b[0m\u001b[1;33m=\u001b[0m\u001b[0mdtype\u001b[0m\u001b[1;33m,\u001b[0m\u001b[1;33m\u001b[0m\u001b[1;33m\u001b[0m\u001b[0m\n\u001b[0;32m   1630\u001b[0m         )\n\u001b[1;32m-> 1631\u001b[1;33m         \u001b[0mtable\u001b[0m\u001b[1;33m.\u001b[0m\u001b[0mcreate\u001b[0m\u001b[1;33m(\u001b[0m\u001b[1;33m)\u001b[0m\u001b[1;33m\u001b[0m\u001b[1;33m\u001b[0m\u001b[0m\n\u001b[0m\u001b[0;32m   1632\u001b[0m         \u001b[1;32mreturn\u001b[0m \u001b[0mtable\u001b[0m\u001b[1;33m\u001b[0m\u001b[1;33m\u001b[0m\u001b[0m\n\u001b[0;32m   1633\u001b[0m \u001b[1;33m\u001b[0m\u001b[0m\n",
      "\u001b[1;32m~\\anaconda3\\lib\\site-packages\\pandas\\io\\sql.py\u001b[0m in \u001b[0;36mcreate\u001b[1;34m(self)\u001b[0m\n\u001b[0;32m    832\u001b[0m         \u001b[1;32mif\u001b[0m \u001b[0mself\u001b[0m\u001b[1;33m.\u001b[0m\u001b[0mexists\u001b[0m\u001b[1;33m(\u001b[0m\u001b[1;33m)\u001b[0m\u001b[1;33m:\u001b[0m\u001b[1;33m\u001b[0m\u001b[1;33m\u001b[0m\u001b[0m\n\u001b[0;32m    833\u001b[0m             \u001b[1;32mif\u001b[0m \u001b[0mself\u001b[0m\u001b[1;33m.\u001b[0m\u001b[0mif_exists\u001b[0m \u001b[1;33m==\u001b[0m \u001b[1;34m\"fail\"\u001b[0m\u001b[1;33m:\u001b[0m\u001b[1;33m\u001b[0m\u001b[1;33m\u001b[0m\u001b[0m\n\u001b[1;32m--> 834\u001b[1;33m                 \u001b[1;32mraise\u001b[0m \u001b[0mValueError\u001b[0m\u001b[1;33m(\u001b[0m\u001b[1;34mf\"Table '{self.name}' already exists.\"\u001b[0m\u001b[1;33m)\u001b[0m\u001b[1;33m\u001b[0m\u001b[1;33m\u001b[0m\u001b[0m\n\u001b[0m\u001b[0;32m    835\u001b[0m             \u001b[1;32melif\u001b[0m \u001b[0mself\u001b[0m\u001b[1;33m.\u001b[0m\u001b[0mif_exists\u001b[0m \u001b[1;33m==\u001b[0m \u001b[1;34m\"replace\"\u001b[0m\u001b[1;33m:\u001b[0m\u001b[1;33m\u001b[0m\u001b[1;33m\u001b[0m\u001b[0m\n\u001b[0;32m    836\u001b[0m                 \u001b[0mself\u001b[0m\u001b[1;33m.\u001b[0m\u001b[0mpd_sql\u001b[0m\u001b[1;33m.\u001b[0m\u001b[0mdrop_table\u001b[0m\u001b[1;33m(\u001b[0m\u001b[0mself\u001b[0m\u001b[1;33m.\u001b[0m\u001b[0mname\u001b[0m\u001b[1;33m,\u001b[0m \u001b[0mself\u001b[0m\u001b[1;33m.\u001b[0m\u001b[0mschema\u001b[0m\u001b[1;33m)\u001b[0m\u001b[1;33m\u001b[0m\u001b[1;33m\u001b[0m\u001b[0m\n",
      "\u001b[1;31mValueError\u001b[0m: Table 'match_summary' already exists."
     ]
    }
   ],
   "source": [
    "df.to_sql('match_summary',engine,index=False)"
   ]
  },
  {
   "cell_type": "code",
   "execution_count": null,
   "id": "0f1a072d",
   "metadata": {},
   "outputs": [],
   "source": [
    "df1.to_sql('match_details',engine,index=False)"
   ]
  },
  {
   "cell_type": "code",
   "execution_count": 31,
   "id": "35d8a57f",
   "metadata": {},
   "outputs": [
    {
     "data": {
      "image/png": "[encoded data removed]",
      "text/plain": [
       "<Figure size 800x600 with 2 Axes>"
      ]
     },
     "metadata": {},
     "output_type": "display_data"
    }
   ],
   "source": [
    "fig, ax=plt.subplots(figsize=(8,6))\n",
    "sb.heatmap(df1.corr(), annot=True, cbar=0.5, linewidth=0.5, cmap=\"coolwarm\")\n",
    "plt.show()"
   ]
  },
  {
   "cell_type": "code",
   "execution_count": 32,
   "id": "9f95bf5b",
   "metadata": {},
   "outputs": [
    {
     "data": {
      "image/png": "[encoded data removed]",
      "text/plain": [
       "<Figure size 1000x500 with 1 Axes>"
      ]
     },
     "metadata": {},
     "output_type": "display_data"
    }
   ],
   "source": [
    "fig,ax=plt.subplots(figsize=(10,5))\n",
    "data=df['toss_decision'].value_counts()\n",
    "lbl=data.keys()\n",
    "plt.pie(data,labels=lbl,autopct='%0.2f%%',explode=[0.03,0.0])\n",
    "plt.show()"
   ]
  },
  {
   "cell_type": "markdown",
   "id": "36d34808",
   "metadata": {},
   "source": [
    "### Most of the team have chosen field first after winning the toss"
   ]
  },
  {
   "cell_type": "code",
   "execution_count": 33,
   "id": "29dad4e3",
   "metadata": {},
   "outputs": [
    {
     "data": {
      "image/png": "[encoded data removed]",
      "text/plain": [
       "<Figure size 1500x500 with 1 Axes>"
      ]
     },
     "metadata": {},
     "output_type": "display_data"
    }
   ],
   "source": [
    "fig,ax=plt.subplots(figsize=(15,5))\n",
    "ax.set_title('Total runs vs Batsman runs')\n",
    "sb.regplot(x=df1['total_runs'],y=df1['batsman_runs'])\n",
    "plt.show()"
   ]
  },
  {
   "cell_type": "code",
   "execution_count": null,
   "id": "055b8288",
   "metadata": {},
   "outputs": [],
   "source": [
    "win=df['winner'].value_counts()\n",
    "win"
   ]
  },
  {
   "cell_type": "code",
   "execution_count": null,
   "id": "b180d00f",
   "metadata": {},
   "outputs": [],
   "source": [
    "plt.figure(figsize=(10,5))\n",
    "sb.barplot(y=win.index, x=win.values)\n",
    "plt.show()\n"
   ]
  },
  {
   "cell_type": "markdown",
   "id": "54a5eac5",
   "metadata": {},
   "source": [
    "### Mumbai Indians have won maximum number of matches"
   ]
  },
  {
   "cell_type": "code",
   "execution_count": null,
   "id": "d245bc08",
   "metadata": {},
   "outputs": [],
   "source": [
    "df['method'].value_counts()"
   ]
  },
  {
   "cell_type": "markdown",
   "id": "632398b7",
   "metadata": {},
   "source": [
    "### So, in 19 matches D/L method was used to decide the winner due to varied reasons."
   ]
  },
  {
   "cell_type": "code",
   "execution_count": null,
   "id": "7bad99ab",
   "metadata": {},
   "outputs": [],
   "source": [
    "u1=df['umpire1'].value_counts().head(5)\n",
    "u1"
   ]
  },
  {
   "cell_type": "code",
   "execution_count": null,
   "id": "9ad4dc21",
   "metadata": {},
   "outputs": [],
   "source": [
    "u2=df['umpire2'].value_counts().head(5)"
   ]
  },
  {
   "cell_type": "code",
   "execution_count": null,
   "id": "122673b2",
   "metadata": {},
   "outputs": [],
   "source": [
    "fig, ax = plt.subplots(1, 2, figsize=(15,5))\n",
    "ax[0].set_title('Top 5 umpire 1')\n",
    "ax[1].set_title('Top 5 umpire 2')\n",
    "sb.barplot(y=u1.index, x=u1.values, ax=ax[0])\n",
    "sb.barplot(y=u2.index, x=u2.values, ax=ax[1])\n",
    "plt.show()\n"
   ]
  },
  {
   "cell_type": "markdown",
   "id": "e2a2567e",
   "metadata": {},
   "source": [
    "### HDPK Dharmasena and S.Ravi are the favourite umpires who appears in maximum matches"
   ]
  },
  {
   "cell_type": "code",
   "execution_count": null,
   "id": "a7efa20e",
   "metadata": {},
   "outputs": [],
   "source": []
  }
 ],
 "metadata": {
  "kernelspec": {
   "display_name": "Python 3 (ipykernel)",
   "language": "python",
   "name": "python3"
  },
  "language_info": {
   "codemirror_mode": {
    "name": "ipython",
    "version": 3
   },
   "file_extension": ".py",
   "mimetype": "text/x-python",
   "name": "python",
   "nbconvert_exporter": "python",
   "pygments_lexer": "ipython3",
   "version": "3.9.13"
  }
 },
 "nbformat": 4,
 "nbformat_minor": 5
}
